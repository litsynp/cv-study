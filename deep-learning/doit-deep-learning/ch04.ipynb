{
  "nbformat": 4,
  "nbformat_minor": 0,
  "metadata": {
    "colab": {
      "name": "ch04.ipynb",
      "provenance": [],
      "collapsed_sections": []
    },
    "kernelspec": {
      "display_name": "Python 3",
      "name": "python3"
    }
  },
  "cells": [
    {
      "cell_type": "markdown",
      "metadata": {
        "id": "ga_JnNC1f66Q"
      },
      "source": [
        "## 04-4 분류용 데이터 세트를 준비합니다"
      ]
    },
    {
      "cell_type": "markdown",
      "metadata": {
        "id": "H9ykIbRzgPNV"
      },
      "source": [
        "### 유방암 데이터 세트 준비하기"
      ]
    },
    {
      "cell_type": "code",
      "metadata": {
        "id": "_0D6CP4XcTjV"
      },
      "source": [
        "from sklearn.datasets import load_breast_cancer\r\n",
        "cancer = load_breast_cancer()"
      ],
      "execution_count": 1,
      "outputs": []
    },
    {
      "cell_type": "markdown",
      "metadata": {
        "id": "hE9-j9LKf_PN"
      },
      "source": [
        "### 입력 데이터 확인하기"
      ]
    },
    {
      "cell_type": "code",
      "metadata": {
        "colab": {
          "base_uri": "https://localhost:8080/"
        },
        "id": "qWbQhKlRcZOG",
        "outputId": "121812ad-6d14-4b50-db36-59690b33666d"
      },
      "source": [
        "print(cancer.data.shape, cancer.target.shape)"
      ],
      "execution_count": 2,
      "outputs": [
        {
          "output_type": "stream",
          "text": [
            "(569, 30) (569,)\n"
          ],
          "name": "stdout"
        }
      ]
    },
    {
      "cell_type": "code",
      "metadata": {
        "colab": {
          "base_uri": "https://localhost:8080/"
        },
        "id": "VVmoRrjqcd-t",
        "outputId": "930ad975-36a7-40e6-e003-4ed3463c151b"
      },
      "source": [
        "print(cancer.data[:3])  # 30 features"
      ],
      "execution_count": 3,
      "outputs": [
        {
          "output_type": "stream",
          "text": [
            "[[1.799e+01 1.038e+01 1.228e+02 1.001e+03 1.184e-01 2.776e-01 3.001e-01\n",
            "  1.471e-01 2.419e-01 7.871e-02 1.095e+00 9.053e-01 8.589e+00 1.534e+02\n",
            "  6.399e-03 4.904e-02 5.373e-02 1.587e-02 3.003e-02 6.193e-03 2.538e+01\n",
            "  1.733e+01 1.846e+02 2.019e+03 1.622e-01 6.656e-01 7.119e-01 2.654e-01\n",
            "  4.601e-01 1.189e-01]\n",
            " [2.057e+01 1.777e+01 1.329e+02 1.326e+03 8.474e-02 7.864e-02 8.690e-02\n",
            "  7.017e-02 1.812e-01 5.667e-02 5.435e-01 7.339e-01 3.398e+00 7.408e+01\n",
            "  5.225e-03 1.308e-02 1.860e-02 1.340e-02 1.389e-02 3.532e-03 2.499e+01\n",
            "  2.341e+01 1.588e+02 1.956e+03 1.238e-01 1.866e-01 2.416e-01 1.860e-01\n",
            "  2.750e-01 8.902e-02]\n",
            " [1.969e+01 2.125e+01 1.300e+02 1.203e+03 1.096e-01 1.599e-01 1.974e-01\n",
            "  1.279e-01 2.069e-01 5.999e-02 7.456e-01 7.869e-01 4.585e+00 9.403e+01\n",
            "  6.150e-03 4.006e-02 3.832e-02 2.058e-02 2.250e-02 4.571e-03 2.357e+01\n",
            "  2.553e+01 1.525e+02 1.709e+03 1.444e-01 4.245e-01 4.504e-01 2.430e-01\n",
            "  3.613e-01 8.758e-02]]\n"
          ],
          "name": "stdout"
        }
      ]
    },
    {
      "cell_type": "markdown",
      "metadata": {
        "id": "L465yMK3gE8s"
      },
      "source": [
        "### 박스 플롯으로 특성의 사분위 관찰하기\r\n",
        "\r\n"
      ]
    },
    {
      "cell_type": "code",
      "metadata": {
        "id": "zIntAoBcck-Y"
      },
      "source": [
        "import matplotlib.pyplot as plt\r\n",
        "import numpy as np"
      ],
      "execution_count": 4,
      "outputs": []
    },
    {
      "cell_type": "code",
      "metadata": {
        "colab": {
          "base_uri": "https://localhost:8080/",
          "height": 279
        },
        "id": "gW81b3b9dMpb",
        "outputId": "e5dc5800-e990-4190-bd80-300555c145f1"
      },
      "source": [
        "plt.boxplot(cancer.data)\r\n",
        "plt.xlabel('feature')\r\n",
        "plt.ylabel('value')\r\n",
        "plt.show()"
      ],
      "execution_count": 5,
      "outputs": [
        {
          "output_type": "display_data",
          "data": {
            "image/png": "[encoded data removed]",
            "text/plain": [
              "<Figure size 432x288 with 1 Axes>"
            ]
          },
          "metadata": {
            "tags": [],
            "needs_background": "light"
          }
        }
      ]
    },
    {
      "cell_type": "markdown",
      "metadata": {
        "id": "ZLk97Qjqf0OW"
      },
      "source": [
        "### 눈에 띄는 특성 살펴보기"
      ]
    },
    {
      "cell_type": "code",
      "metadata": {
        "colab": {
          "base_uri": "https://localhost:8080/"
        },
        "id": "V15LH3N4dRPF",
        "outputId": "1b248ac0-58e2-4cf1-f7af-7f2c19598bf7"
      },
      "source": [
        "# 4, 14, 24번째 특성이 다른 특성보다 값의 분포가 훨씬 크다\r\n",
        "print(cancer.feature_names[[3, 13, 23]])  # 전부 넓이와 관련된 특성"
      ],
      "execution_count": 6,
      "outputs": [
        {
          "output_type": "stream",
          "text": [
            "['mean area' 'area error' 'worst area']\n"
          ],
          "name": "stdout"
        }
      ]
    },
    {
      "cell_type": "markdown",
      "metadata": {
        "id": "IlLG705LfsBO"
      },
      "source": [
        "### 타깃 데이터 확인하기"
      ]
    },
    {
      "cell_type": "code",
      "metadata": {
        "colab": {
          "base_uri": "https://localhost:8080/"
        },
        "id": "CxXE3hs5fJpn",
        "outputId": "d67021df-d530-4754-cd57-90efd1491dbf"
      },
      "source": [
        "# np.unique로 고유한 값을 찾아 반환\r\n",
        "print(np.unique(cancer.target, return_counts=True))\r\n",
        "\r\n",
        "# (array([0, 1]), array([212, 357]))\r\n",
        "# array([0, 1]): np.target 안에는 0, 1만이 존재\r\n",
        "# array([212, 357]): 타깃 데이터의 고유한 값의 개수를 센 값"
      ],
      "execution_count": 7,
      "outputs": [
        {
          "output_type": "stream",
          "text": [
            "(array([0, 1]), array([212, 357]))\n"
          ],
          "name": "stdout"
        }
      ]
    },
    {
      "cell_type": "markdown",
      "metadata": {
        "id": "wCK2QIUQfvx6"
      },
      "source": [
        "### 훈련 데이터 세트 저장하기"
      ]
    },
    {
      "cell_type": "code",
      "metadata": {
        "id": "KhdKP4aYfVc5"
      },
      "source": [
        "x = cancer.data\r\n",
        "y = cancer.target"
      ],
      "execution_count": 8,
      "outputs": []
    },
    {
      "cell_type": "markdown",
      "metadata": {
        "id": "KAbj9Nx5gUvq"
      },
      "source": [
        "## 04-5 로지스틱 회귀를 위한 뉴런을 만듭니다"
      ]
    },
    {
      "cell_type": "markdown",
      "metadata": {
        "id": "SIysyBwwo7GD"
      },
      "source": [
        "### train_test_split() 함수로 훈련 데이터 세트 나누기"
      ]
    },
    {
      "cell_type": "code",
      "metadata": {
        "id": "ggneU0qNgM1L"
      },
      "source": [
        "from sklearn.model_selection import train_test_split"
      ],
      "execution_count": 9,
      "outputs": []
    },
    {
      "cell_type": "code",
      "metadata": {
        "id": "GHSX0_-RpBfc"
      },
      "source": [
        "x_train, x_test, y_train, y_test = train_test_split(x, y, stratify=y, test_size=0.2, random_state=42)"
      ],
      "execution_count": 10,
      "outputs": []
    },
    {
      "cell_type": "markdown",
      "metadata": {
        "id": "NH1oiqPppNU9"
      },
      "source": [
        "### 결과 확인하기"
      ]
    },
    {
      "cell_type": "code",
      "metadata": {
        "colab": {
          "base_uri": "https://localhost:8080/"
        },
        "id": "srllWorXpLaa",
        "outputId": "bb743822-d601-4943-ac5d-9dcce13ba0da"
      },
      "source": [
        "print(x_train.shape, x_test.shape)"
      ],
      "execution_count": 11,
      "outputs": [
        {
          "output_type": "stream",
          "text": [
            "(455, 30) (114, 30)\n"
          ],
          "name": "stdout"
        }
      ]
    },
    {
      "cell_type": "markdown",
      "metadata": {
        "id": "3_jI2cevpkcG"
      },
      "source": [
        "### unique() 함수로 훈련 세트의 타깃 확인하기"
      ]
    },
    {
      "cell_type": "code",
      "metadata": {
        "colab": {
          "base_uri": "https://localhost:8080/"
        },
        "id": "LItKUTf9pXGS",
        "outputId": "123bf6b9-6ae2-41df-ee70-5c85dae59de6"
      },
      "source": [
        "print(np.unique(y_train, return_counts=True))"
      ],
      "execution_count": 12,
      "outputs": [
        {
          "output_type": "stream",
          "text": [
            "(array([0, 1]), array([170, 285]))\n"
          ],
          "name": "stdout"
        }
      ]
    },
    {
      "cell_type": "markdown",
      "metadata": {
        "id": "qkLMqJuWppP5"
      },
      "source": [
        "### 로지스틱 회귀 구현하기"
      ]
    },
    {
      "cell_type": "code",
      "metadata": {
        "id": "OtyNXUDKpjk9"
      },
      "source": [
        "class LogisticNeuron:\n",
        "    def __init__(self):\n",
        "        self.w = None\n",
        "        self.b = None\n",
        "    \n",
        "    def forpass(self, x):\n",
        "        z = np.sum(x * self.w) + self.b  # 직선 방정식\n",
        "        return z\n",
        "    \n",
        "    def backdrop(self, x, err):\n",
        "        w_grad = x * err        # 가중치에 대한 gradient 계산\n",
        "        b_grad = 1 * err        # 절편에 대한 gradient 계산\n",
        "        return w_grad, b_grad\n",
        "\n",
        "    def activation(self, z):\n",
        "        z = np.clip(z, -100, None)  # 안전한 np.exp() 계산을 위해 추가\n",
        "        a = 1 / (1 + np.exp(-z))    # 시그모이드 계산\n",
        "        return a\n",
        "    \n",
        "    def fit(self, x, y, epochs=100):\n",
        "        self.w = np.ones(x.shape[1])    # 가중치 초기화\n",
        "        self.b = 0                      # 절편 초기화\n",
        "        for i in range(epochs):         # epochs만큼 반복\n",
        "            for x_i, y_i in zip(x, y):  # 모든 샘플에 대해 반복\n",
        "                z = self.forpass(x_i)   # 정방향 계산\n",
        "                a = self.activation(z)  # 활성화 함수 적용\n",
        "                err = -(y_i - a)        # 오차 계산\n",
        "                w_grad, b_grad = self.backdrop(x_i, err)  # 역방향 계산\n",
        "                self.w -= w_grad        # 가중치 업데이트\n",
        "                self.b -= b_grad        # 절편 업데이트\n",
        "\n",
        "    def predict(self, x):\n",
        "        z = [self.forpass(x_i) for x_i in x]  # 선형 함수 적용 - 정방향 계산 (뉴런에 x_i 입력)\n",
        "        a = self.activation(np.array(z))      # 활성화 함수 적용 (뉴런 내에서 활성화 함수 이용해 a 추출)\n",
        "        return a > 0.5                        # 계단 함수 적용 (결과값 도출)"
      ],
      "execution_count": 13,
      "outputs": []
    },
    {
      "cell_type": "markdown",
      "metadata": {
        "id": "FfA8By1zsjjp"
      },
      "source": [
        "### 모델 훈련하기"
      ]
    },
    {
      "cell_type": "code",
      "metadata": {
        "id": "XQHeM8yOsfMy"
      },
      "source": [
        "neuron = LogisticNeuron()\r\n",
        "neuron.fit(x_train, y_train)"
      ],
      "execution_count": 14,
      "outputs": []
    },
    {
      "cell_type": "markdown",
      "metadata": {
        "id": "VDHOlxEusq6m"
      },
      "source": [
        "### 테스트 세트 사용해 모델의 정확도 평가하기"
      ]
    },
    {
      "cell_type": "code",
      "metadata": {
        "colab": {
          "base_uri": "https://localhost:8080/"
        },
        "id": "bG5tre1DspTz",
        "outputId": "60a904c3-ce2f-42a3-e77e-29fd15fb83f3"
      },
      "source": [
        "np.mean(neuron.predict(x_test) == y_test)  # 예측값을 넣고 예측한 값이 맞는지 비교\r\n",
        "\r\n",
        "# predict() 메소드의 반환값은 True/False로 이루어진 (m,) 크기의 배열이고,\r\n",
        "# y_test는 0/1로 이루어진 (m,) 크기의 배열이므로 바로 비교 가능\r\n",
        "\r\n",
        "# 올바르게 예측한 샘플의 비율\r\n",
        "# 0.8245614035087719"
      ],
      "execution_count": 15,
      "outputs": [
        {
          "output_type": "execute_result",
          "data": {
            "text/plain": [
              "0.8245614035087719"
            ]
          },
          "metadata": {
            "tags": []
          },
          "execution_count": 15
        }
      ]
    },
    {
      "cell_type": "markdown",
      "metadata": {
        "id": "Fxb9cKrYYYOD"
      },
      "source": [
        "## 04-6 로지스틱 회귀 뉴런으로 단일층 신경망을 만듭니다"
      ]
    },
    {
      "cell_type": "code",
      "metadata": {
        "id": "FF3yurCAYYOD"
      },
      "source": [
        "class SingleLayer:\n",
        "    def __init__(self):\n",
        "        self.w = None\n",
        "        self.b = None\n",
        "        self.losses = []\n",
        "\n",
        "    def forpass(self, x):\n",
        "        z = np.sum(x * self.w) + self.b  # 직선 방정식\n",
        "        return z\n",
        "\n",
        "    def backdrop(self, x, err):\n",
        "        w_grad = x * err        # 가중치에 대한 gradient 계산\n",
        "        b_grad = 1 * err        # 절편에 대한 gradient 계산\n",
        "        return w_grad, b_grad\n",
        "\n",
        "    def activation(self, z):\n",
        "        z = np.clip(z, -100, None)  # 안전한 np.exp() 계산을 위해 추가\n",
        "        a = 1 / (1 + np.exp(-z))    # 시그모이드 계산\n",
        "        return a\n",
        "\n",
        "    def fit(self, x, y, epochs=100):\n",
        "        self.w = np.ones(x.shape[1])    # 가중치 초기화\n",
        "        self.b = 0                      # 절편 초기화\n",
        "        for i in range(epochs):         # epochs만큼 반복\n",
        "            loss = 0\n",
        "            indexes = np.random.permutation(np.arange(len(x)))  # 인덱스 섞음\n",
        "            for i in indexes:               # 모든 샘플에 대해 반복\n",
        "                z = self.forpass(x[i])      # 정방향 계산\n",
        "                a = self.activation(z)      # 활성화 함수 적용\n",
        "                err = -(y[i] - a)           # 오차 계산\n",
        "                w_grad, b_grad = self.backdrop(x[i], err)  # 역방향 계산\n",
        "                self.w -= w_grad            # 가중치 업데이트\n",
        "                self.b -= b_grad            # 절편 업데이트\n",
        "                a = np.clip(a, 1e-10, 1-1e-10)  # 안전한 로그 계산을 위해 클리핑한 후 손실을 누적\n",
        "                loss += -(y[i] * np.log(a) + (1 - y[i]) * np.log(1-a))  # 에포크마다 평균 손실을 저장\n",
        "            self.losses.append(loss/len(y))\n",
        "\n",
        "    def predict(self, x):\n",
        "        # 0보다 큰지 작은지만 비교하면 되므로, 굳이 시그모이드 적용 필요 없음\n",
        "        z = [self.forpass(x_i) for x_i in x]  # 선형 함수 적용 - 정방향 계산 (뉴런에 x_i 입력)\n",
        "        return np.array(z) > 0                # 계단 함수 적용 (결과값 도출)\n",
        "\n",
        "    def score(self, x, y):\n",
        "        return np.mean(self.predict(x) == y)"
      ],
      "execution_count": 16,
      "outputs": []
    },
    {
      "cell_type": "markdown",
      "metadata": {
        "id": "en9k0INIZclX"
      },
      "source": [
        "### 단일층 신경망 훈련하기"
      ]
    },
    {
      "cell_type": "markdown",
      "metadata": {
        "id": "3Jnlc1QNZnT_"
      },
      "source": [
        "#### 1. 단일층 신경망 훈련하고 정확도 출력하기"
      ]
    },
    {
      "cell_type": "code",
      "metadata": {
        "colab": {
          "base_uri": "https://localhost:8080/"
        },
        "id": "VQVU8dI9YYOE",
        "outputId": "ebf8e5c7-df26-415d-8067-ae401c4f9e91"
      },
      "source": [
        "layer = SingleLayer()\r\n",
        "layer.fit(x_train, y_train)\r\n",
        "layer.score(x_test, y_test)\r\n",
        "\r\n",
        "# 0.9298245614035088\r\n",
        "# 정확도가 훨씬 올라간 것을 확인할 수 있다."
      ],
      "execution_count": 17,
      "outputs": [
        {
          "output_type": "execute_result",
          "data": {
            "text/plain": [
              "0.9298245614035088"
            ]
          },
          "metadata": {
            "tags": []
          },
          "execution_count": 17
        }
      ]
    },
    {
      "cell_type": "markdown",
      "metadata": {
        "id": "AUD3bHdBZqLs"
      },
      "source": [
        "#### 2. 손실 함수 누적값 확인하기"
      ]
    },
    {
      "cell_type": "code",
      "metadata": {
        "colab": {
          "base_uri": "https://localhost:8080/",
          "height": 279
        },
        "id": "0a92NeqFZS__",
        "outputId": "8d2ffdaf-a34f-478d-9b8c-20682a763db1"
      },
      "source": [
        "plt.plot(layer.losses)\r\n",
        "plt.xlabel('epoch')\r\n",
        "plt.ylabel('loss')\r\n",
        "plt.show()"
      ],
      "execution_count": 18,
      "outputs": [
        {
          "output_type": "display_data",
          "data": {
            "image/png": "[encoded data removed]",
            "text/plain": [
              "<Figure size 432x288 with 1 Axes>"
            ]
          },
          "metadata": {
            "tags": [],
            "needs_background": "light"
          }
        }
      ]
    },
    {
      "cell_type": "markdown",
      "metadata": {
        "id": "ty4o6MpbZ2FA"
      },
      "source": [
        "## 04-7 사이킷런으로 로지스틱 회귀를 수행합니다"
      ]
    },
    {
      "cell_type": "markdown",
      "metadata": {
        "id": "5BeRsdomZ5Zq"
      },
      "source": [
        "### 사이킷런으로 경사 하강법 적용하기\r\n",
        "\r\n",
        "사이킷런에 SGD (Stochastic Gradient Descent)가 이미 구현되어 있다."
      ]
    },
    {
      "cell_type": "markdown",
      "metadata": {
        "id": "Ue5F4mPRZ7Sw"
      },
      "source": [
        "#### 1. 로지스틱 손실 함수 지정하기\r\n",
        "\r\n",
        "*   SGDClassifier 클래스에 로지스틱 회귀를 적용하려면 `loss` 매개변수에 손실 함수로 log를 지정한다.\r\n",
        "*   `max_iter`을 통해 반복 횟수를 100으로 지정한다.\r\n",
        "*   반복 실행했을 때 결과를 재현하기 위해 `random_state`의 난수 초깃값을 42로 지정한다.\r\n",
        "*   반복할 때마다 로지스틱 손실 함수의 값이 `tol`에 지정한 값만큼 감소되지 않으면 반복을 중단하도록 한다. 만약 `tol`을 설정하지 않으면 `max_iter`의 값을 늘리라는 경고가 발생한다."
      ]
    },
    {
      "cell_type": "code",
      "metadata": {
        "id": "7WfoKAXDZx5y"
      },
      "source": [
        "from sklearn.linear_model import SGDClassifier\r\n",
        "sgd = SGDClassifier(loss='log', max_iter=100, tol=1e-3, random_state=42)"
      ],
      "execution_count": 19,
      "outputs": []
    },
    {
      "cell_type": "markdown",
      "metadata": {
        "id": "d9SYIsvpaErO"
      },
      "source": [
        "#### 2. 사이킷런으로 훈련하고 평가하기"
      ]
    },
    {
      "cell_type": "code",
      "metadata": {
        "colab": {
          "base_uri": "https://localhost:8080/"
        },
        "id": "bkwUyv_naEQN",
        "outputId": "9944e56e-dfdb-49e3-eec6-23970351d883"
      },
      "source": [
        "sgd.fit(x_train, y_train)\r\n",
        "sgd.score(x_test, y_test)"
      ],
      "execution_count": 20,
      "outputs": [
        {
          "output_type": "execute_result",
          "data": {
            "text/plain": [
              "0.8333333333333334"
            ]
          },
          "metadata": {
            "tags": []
          },
          "execution_count": 20
        }
      ]
    },
    {
      "cell_type": "markdown",
      "metadata": {
        "id": "ItLfXMCwaLht"
      },
      "source": [
        "#### 3. 사이킷런으로 예측하기"
      ]
    },
    {
      "cell_type": "code",
      "metadata": {
        "colab": {
          "base_uri": "https://localhost:8080/"
        },
        "id": "7wsX2foiaJgj",
        "outputId": "8588ff6b-96de-4277-9a97-314c4c8bd32f"
      },
      "source": [
        "# 주의: 사이킷런은 입력 데이터로 2차원 배열만 받아들이므로,\r\n",
        "# 샘플 하나만 주입하더라도 2차원 배열로 만들어야 한다.\r\n",
        "# 이 예제에서는 배열의 슬라이싱을 이용하도록 한다.\r\n",
        "sgd.predict(x_test[0:10])"
      ],
      "execution_count": 21,
      "outputs": [
        {
          "output_type": "execute_result",
          "data": {
            "text/plain": [
              "array([0, 1, 0, 0, 0, 0, 1, 0, 0, 0])"
            ]
          },
          "metadata": {
            "tags": []
          },
          "execution_count": 21
        }
      ]
    }
  ]
}