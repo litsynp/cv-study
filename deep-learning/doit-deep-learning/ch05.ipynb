{
  "nbformat": 4,
  "nbformat_minor": 0,
  "metadata": {
    "colab": {
      "name": "doit-dl-test-ch5.ipynb",
      "provenance": []
    },
    "kernelspec": {
      "name": "python3",
      "display_name": "Python 3"
    }
  },
  "cells": [
    {
      "cell_type": "markdown",
      "metadata": {
        "id": "TwJXLzCUsHww"
      },
      "source": [
        "# 05-1 검증 세트를 나누고 전처리 과정을 배웁니다"
      ]
    },
    {
      "cell_type": "markdown",
      "metadata": {
        "id": "hpDzgT4GsUd9"
      },
      "source": [
        "## 테스트 세트로 모델을 튜닝합니다"
      ]
    },
    {
      "cell_type": "code",
      "metadata": {
        "id": "zzhtXGHrsCMs"
      },
      "source": [
        "from sklearn.datasets import load_breast_cancer\r\n",
        "from sklearn.model_selection import train_test_split\r\n",
        "cancer = load_breast_cancer()\r\n",
        "x = cancer.data\r\n",
        "y = cancer.target\r\n",
        "x_train_all, x_test, y_train_all, y_test = train_test_split(x, y, stratify=y, test_size=0.2, random_state=42)"
      ],
      "execution_count": 1,
      "outputs": []
    },
    {
      "cell_type": "markdown",
      "metadata": {
        "id": "OEJAtdXws0vJ"
      },
      "source": [
        "### 로지스틱 회귀로 모델 훈련하고 평가하기\r\n",
        "loss 매개변수 값을 `log`로 지정하여 로지스틱 손실 함수를 손실 함수로 지정한다.\r\n",
        "\r\n",
        "가중치나 절편처럼 알아서 학습되지 않고 `loss` 매개변수의 값처럼 사용자가 직접 선택해야 하는 값을 하이퍼파라미터 (hyperparameter)라고 부른다."
      ]
    },
    {
      "cell_type": "code",
      "metadata": {
        "colab": {
          "base_uri": "https://localhost:8080/"
        },
        "id": "LrhRUMwYsu2A",
        "outputId": "b2f5bb61-b7ef-4e08-d2ae-1dc7305699fd"
      },
      "source": [
        "from sklearn.linear_model import SGDClassifier\r\n",
        "sgd = SGDClassifier(loss='log', random_state=42)\r\n",
        "sgd.fit(x_train_all, y_train_all)\r\n",
        "sgd.score(x_test, y_test)"
      ],
      "execution_count": 2,
      "outputs": [
        {
          "output_type": "execute_result",
          "data": {
            "text/plain": [
              "0.8333333333333334"
            ]
          },
          "metadata": {
            "tags": []
          },
          "execution_count": 2
        }
      ]
    },
    {
      "cell_type": "markdown",
      "metadata": {
        "id": "A13hJOwwtVYn"
      },
      "source": [
        "### 서포트 벡터 머신으로 모델 훈련하고 평가하기\r\n",
        "loss 매개변수 값을 `hinge`로 지정하여 선형 서포트 벡터 머신 문제를 푸는 모델로 지정한다."
      ]
    },
    {
      "cell_type": "code",
      "metadata": {
        "id": "gG622xdytR58"
      },
      "source": [
        "from sklearn.linear_model import SGDClassifier\r\n",
        "sgd = SGDClassifier(loss='hinge', random_state=42)\r\n",
        "sgd.fit(x_train_all, y_train_all)\r\n",
        "sgd.score(x_test, y_test)"
      ],
      "execution_count": null,
      "outputs": []
    },
    {
      "cell_type": "markdown",
      "metadata": {
        "id": "BDlH3i-RuMQH"
      },
      "source": [
        "## 검증 세트를 준비합니다"
      ]
    },
    {
      "cell_type": "markdown",
      "metadata": {
        "id": "Yqi-8YyIuRDV"
      },
      "source": [
        "### 1. 데이터 세트 준비하기"
      ]
    },
    {
      "cell_type": "code",
      "metadata": {
        "id": "P8DgSbC4uOYl"
      },
      "source": [
        "from sklearn.datasets import load_breast_cancer\r\n",
        "from sklearn.model_selection import train_test_split\r\n",
        "cancer = load_breast_cancer()\r\n",
        "x = cancer.data\r\n",
        "y = cancer.target\r\n",
        "x_train_all, x_test, y_train_all, y_test = train_test_split(x, y, stratify=y, test_size=0.2, random_state=42)"
      ],
      "execution_count": 3,
      "outputs": []
    },
    {
      "cell_type": "markdown",
      "metadata": {
        "id": "O0-trV4Huntr"
      },
      "source": [
        "### 2. 검증 세트 분할하기\r\n",
        "훈련, 검증, 테스트 세트는 6:2:2 정도로 분할한다.\r\n",
        "\r\n",
        "전체 데이터 세트를 8:2로 나누어 훈련 세트와 테스트 세트를 만들고, 다시 훈련 세트를 8:2로 나누어 훈련 세트와 검증 세트를 만든다. (전체 데이터가 100이면 64:20:16으로 나눈다.)"
      ]
    },
    {
      "cell_type": "code",
      "metadata": {
        "colab": {
          "base_uri": "https://localhost:8080/"
        },
        "id": "rPZhjwYLulFM",
        "outputId": "df756c7f-694b-4d4d-f9df-09d647b98fed"
      },
      "source": [
        "x_train, x_val, y_train, y_val = train_test_split(x_train_all, y_train_all, stratify=y_train_all, test_size=0.2, random_state=42)\r\n",
        "print(len(x_train), len(x_val))"
      ],
      "execution_count": 4,
      "outputs": [
        {
          "output_type": "stream",
          "text": [
            "364 91\n"
          ],
          "name": "stdout"
        }
      ]
    },
    {
      "cell_type": "markdown",
      "metadata": {
        "id": "TJnFmhHTvMzj"
      },
      "source": [
        "### 3. 검증 세트 사용해 모델 평가하기"
      ]
    },
    {
      "cell_type": "code",
      "metadata": {
        "colab": {
          "base_uri": "https://localhost:8080/"
        },
        "id": "2bZWBfWmvLXy",
        "outputId": "cfbeb19c-d4ae-4c4a-8428-4efa5e565751"
      },
      "source": [
        "sgd = SGDClassifier(loss='log', random_state=42)\r\n",
        "sgd.fit(x_train, y_train)\r\n",
        "sgd.score(x_val, y_val)"
      ],
      "execution_count": 6,
      "outputs": [
        {
          "output_type": "execute_result",
          "data": {
            "text/plain": [
              "0.6923076923076923"
            ]
          },
          "metadata": {
            "tags": []
          },
          "execution_count": 6
        }
      ]
    }
  ]
}