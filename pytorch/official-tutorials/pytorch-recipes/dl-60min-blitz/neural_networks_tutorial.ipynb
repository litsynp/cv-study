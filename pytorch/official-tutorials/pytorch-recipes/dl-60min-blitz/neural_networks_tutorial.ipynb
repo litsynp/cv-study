{
  "nbformat": 4,
  "nbformat_minor": 0,
  "metadata": {
    "colab": {
      "name": "pytorch-test.ipynb",
      "provenance": []
    },
    "kernelspec": {
      "name": "python3",
      "display_name": "Python 3"
    }
  },
  "cells": [
    {
      "cell_type": "markdown",
      "metadata": {
        "id": "cJoVD7j7dTZ_"
      },
      "source": [
        "# 신경망(NEURAL NETWORKS)\r\n",
        "신경망은 `torch.nn` 패키지를 사용하여 생성할 수 있습니다.\r\n",
        "\r\n",
        "지금까지 `autograd` 를 살펴봤는데요, `nn` 은 모델을 정의하고 미분하는데 `autograd` 를 사용합니다. `nn.Module` 은 계층(layer)과 `output` 을 반환하는 `forward(input)` 메서드를 포함하고 있습니다.\r\n",
        "\r\n",
        "숫자 이미지를 분류하는 신경망을 예제로 살펴보겠습니다:\r\n",
        "\r\n",
        "![convnet](https://tutorials.pytorch.kr/_images/mnist.png)\r\n",
        "\r\n",
        "이는 간단한 **순전파 네트워크(Feed-forward network)**입니다. 입력(input)을 받아 여러 계층에 차례로 전달한 후, 최종 출력(output)을 제공합니다.\r\n",
        "\r\n",
        "신경망의 일반적인 학습 과정은 다음과 같습니다:\r\n",
        "\r\n",
        "- 학습 가능한 매개변수(또는 가중치(weight))를 갖는 신경망을 정의합니다.\r\n",
        "\r\n",
        "- 데이터셋(dataset) 입력을 반복합니다.\r\n",
        "\r\n",
        "- 입력을 신경망에서 전파(process)합니다.\r\n",
        "\r\n",
        "- 손실(loss; 출력이 정답으로부터 얼마나 떨어져있는지)을 계산합니다.\r\n",
        "\r\n",
        "- 변화도(gradient)를 신경망의 매개변수들에 역으로 전파합니다.\r\n",
        "\r\n",
        "- 신경망의 가중치를 갱신합니다. 일반적으로 다음과 같은 간단한 규칙을 사용합니다: `새로운 가중치(weight) = 가중치(weight) - 학습률(learning rate) * 변화도(gradient)`"
      ]
    },
    {
      "cell_type": "markdown",
      "metadata": {
        "id": "5Bykq1nMeG8c"
      },
      "source": [
        "## 신경망 정의하기\r\n",
        "\r\n",
        "이제 신경망을 정의해보겠습니다."
      ]
    },
    {
      "cell_type": "code",
      "metadata": {
        "colab": {
          "base_uri": "https://localhost:8080/"
        },
        "id": "HNf0TlsRdTA2",
        "outputId": "d6cc32a8-a18d-4560-f716-b588f8b4a0e5"
      },
      "source": [
        "import torch\r\n",
        "import torch.nn as nn\r\n",
        "import torch.nn.functional as F\r\n",
        "\r\n",
        "\r\n",
        "class Net(nn.Module):\r\n",
        "\r\n",
        "    def __init__(self):\r\n",
        "        super(Net, self).__init__()\r\n",
        "        # 입력 이미지 채널 1개, 출력 채널 6개, 3x3의 정사각 컨볼루션 행렬\r\n",
        "        # 컨볼루션 커널 정의\r\n",
        "        self.conv1 = nn.Conv2d(1, 6, 3)\r\n",
        "        self.conv2 = nn.Conv2d(6, 16, 3)\r\n",
        "        # 아핀(affine) 연산: y = Wx + b\r\n",
        "        self.fc1 = nn.Linear(16 * 6 * 6, 120)  # 6*6은 이미지 차원에 해당\r\n",
        "        self.fc2 = nn.Linear(120, 84)\r\n",
        "        self.fc3 = nn.Linear(84, 10)\r\n",
        "\r\n",
        "    def forward(self, x):\r\n",
        "        # (2, 2) 크기 윈도우에 대해 맥스 풀링(max pooling)\r\n",
        "        x = F.max_pool2d(F.relu(self.conv1(x)), (2, 2))\r\n",
        "        # 크기가 제곱수라면 하나의 숫자만을 특정\r\n",
        "        x = F.max_pool2d(F.relu(self.conv2(x)), 2)\r\n",
        "        x = x.view(-1, self.num_flat_features(x))\r\n",
        "        x = F.relu(self.fc1(x))\r\n",
        "        x = F.relu(self.fc2(x))\r\n",
        "        x = self.fc3(x)\r\n",
        "        return x\r\n",
        "\r\n",
        "    def num_flat_features(self, x):\r\n",
        "        size = x.size()[1:]  # 배치 차원을 제외한 모든 차원\r\n",
        "        num_features = 1\r\n",
        "        for s in size:\r\n",
        "            num_features *= s\r\n",
        "        return num_features\r\n",
        "\r\n",
        "\r\n",
        "net = Net()\r\n",
        "print(net)"
      ],
      "execution_count": 1,
      "outputs": [
        {
          "output_type": "stream",
          "text": [
            "Net(\n",
            "  (conv1): Conv2d(1, 6, kernel_size=(3, 3), stride=(1, 1))\n",
            "  (conv2): Conv2d(6, 16, kernel_size=(3, 3), stride=(1, 1))\n",
            "  (fc1): Linear(in_features=576, out_features=120, bias=True)\n",
            "  (fc2): Linear(in_features=120, out_features=84, bias=True)\n",
            "  (fc3): Linear(in_features=84, out_features=10, bias=True)\n",
            ")\n"
          ],
          "name": "stdout"
        }
      ]
    },
    {
      "cell_type": "markdown",
      "metadata": {
        "id": "k2UKLZOjjjZ7"
      },
      "source": [
        "`forward` 함수만 정의하고 나면, (변화도를 계산하는) `backward` 함수는 `autograd` 를 사용하여 **자동으로 정의**됩니다. `forward` 함수에서는 어떠한 Tensor 연산을 사용해도 됩니다.\r\n",
        "\r\n",
        "모델의 학습 가능한 매개변수들은 `net.parameters()` 에 의해 반환됩니다."
      ]
    },
    {
      "cell_type": "code",
      "metadata": {
        "colab": {
          "base_uri": "https://localhost:8080/"
        },
        "id": "nyUWrCPdd97X",
        "outputId": "985bb877-61de-4640-d8d4-fb7bfd3e5464"
      },
      "source": [
        "params = list(net.parameters())\r\n",
        "print(len(params))\r\n",
        "print(params[0].size())  # conv1의 .weight"
      ],
      "execution_count": 2,
      "outputs": [
        {
          "output_type": "stream",
          "text": [
            "10\n",
            "torch.Size([6, 1, 3, 3])\n"
          ],
          "name": "stdout"
        }
      ]
    },
    {
      "cell_type": "markdown",
      "metadata": {
        "id": "CAfDh-YFjwFS"
      },
      "source": [
        "임의의 32x32 입력값을 넣어보겠습니다.\r\n",
        "\r\n",
        "Note: 이 신경망(LeNet)의 예상되는 입력 크기는 32x32입니다. 이 신경망에 MNIST 데이터셋을 사용하기 위해서는, 데이터셋의 이미지 크기를 32x32로 변경해야 합니다."
      ]
    },
    {
      "cell_type": "code",
      "metadata": {
        "colab": {
          "base_uri": "https://localhost:8080/"
        },
        "id": "7X7OO-7Cjplt",
        "outputId": "56313c91-86f3-48a4-e18c-6c995c430b77"
      },
      "source": [
        "input = torch.randn(1, 1, 32, 32)\r\n",
        "out = net(input)\r\n",
        "print(out)"
      ],
      "execution_count": 3,
      "outputs": [
        {
          "output_type": "stream",
          "text": [
            "tensor([[ 0.0887,  0.0977,  0.0241, -0.0675,  0.0845,  0.0785, -0.0107,  0.0249,\n",
            "          0.0628, -0.0131]], grad_fn=<AddmmBackward>)\n"
          ],
          "name": "stdout"
        }
      ]
    },
    {
      "cell_type": "code",
      "metadata": {
        "id": "lvKhLm4mjyKG"
      },
      "source": [
        "# 모든 매개변수의 변화도 버퍼(gradient buffer)를 0으로 설정하고, 무작위 값으로 역전파를 합니다.\r\n",
        "\r\n",
        "net.zero_grad()\r\n",
        "out.backward(torch.randn(1, 10))"
      ],
      "execution_count": 4,
      "outputs": []
    },
    {
      "cell_type": "markdown",
      "metadata": {
        "id": "uZWm7O-ckPpf"
      },
      "source": [
        "### NOTE\r\n",
        "\r\n",
        "`torch.nn` 은 **미니-배치(mini-batch)만** 지원합니다. `torch.nn` 패키지 전체는 하나의 샘플이 아닌, 샘플들의 미니-배치만을 입력으로 받습니다.\r\n",
        "\r\n",
        "예를 들어, `nnConv2D` 는 `nSamples x nChannels x Height x Width` 의 4차원 Tensor를 입력으로 합니다.\r\n",
        "\r\n",
        "만약 하나의 샘플만 있다면, `input.unsqueeze(0)` 을 사용해서 가상의 차원을 추가합니다."
      ]
    },
    {
      "cell_type": "markdown",
      "metadata": {
        "id": "_zvJS_7GkX9O"
      },
      "source": [
        "계속 진행하기 전에, 지금까지 살펴봤던 것들을 다시 한번 요약해보겠습니다.\r\n",
        "\r\n",
        "### 요약:\r\n",
        "- `torch.Tensor` - `backward()` 같은 autograd 연산을 지원하는 *다차원 배열* 입니다. 또한 tensor에 대한 *변화도(gradient)*를 갖고 있습니다.\r\n",
        "\r\n",
        "- `nn.Module` - 신경망 모듈. *매개변수를 캡슐화(encapsulation)하는 간편한 방법* 으로, GPU로 이동, 내보내기(exporting), 불러오기(loading) 등의 작업을 위한 헬퍼(helper)를 제공합니다.\r\n",
        "\r\n",
        "- `nn.Parameter` - Tensor의 한 종류로, `Module` *에 속성으로 할당될 때 자동으로 매개변수로 등록* 됩니다.\r\n",
        "\r\n",
        "- `autograd.Function` - *autograd 연산의 전방향과 역방향 정의* 를 구현합니다. 모든 `Tensor` 연산은 하나 이상의 `Function` 노드를 생성하며, 각 노드는 `Tensor` 를 생성하고 *이력(history)을 부호화* 하는 함수들과 연결하고 있습니다.\r\n",
        "\r\n",
        "### 지금까지 우리가 다룬 내용은 다음과 같습니다:\r\n",
        "- 신경망을 정의하는 것\r\n",
        "\r\n",
        "- 입력을 처리하고 `backward` 를 호출하는 것\r\n",
        "\r\n",
        "### 더 살펴볼 내용들은 다음과 같습니다:\r\n",
        "- 손실을 계산하는 것\r\n",
        "\r\n",
        "- 신경망의 가중치를 갱신하는 것"
      ]
    },
    {
      "cell_type": "markdown",
      "metadata": {
        "id": "2n3g6b4Fk5xg"
      },
      "source": [
        "## 손실 함수 (Loss Function)\r\n",
        "손실 함수는 (output, target)을 한 쌍(pair)의 입력으로 받아, 출력(output)이 정답(target)으로부터 얼마나 멀리 떨어져있는지 추정하는 값을 계산합니다.\r\n",
        "\r\n",
        "nn 패키지에는 여러가지의 [손실 함수들](https://pytorch.org/docs/stable/nn.html) 이 존재합니다. 간단한 손실 함수로는 출력과 대상간의 평균제곱오차(mean-squared error)를 계산하는 `nn.MSEloss` 가 있습니다.\r\n",
        "\r\n",
        "예를 들면:"
      ]
    },
    {
      "cell_type": "code",
      "metadata": {
        "colab": {
          "base_uri": "https://localhost:8080/"
        },
        "id": "vt7Vip_Nj87x",
        "outputId": "6f0bcd1a-d48e-45da-f78b-335d7e7ed4cc"
      },
      "source": [
        "output = net(input)\r\n",
        "target = torch.randn(10)  # 예시를 위한 임의의 정답\r\n",
        "target = target.view(1, -1)  # 출력과 같은 shape로 만듦\r\n",
        "criterion = nn.MSELoss()\r\n",
        "\r\n",
        "loss = criterion(output, target)\r\n",
        "print(loss)"
      ],
      "execution_count": 5,
      "outputs": [
        {
          "output_type": "stream",
          "text": [
            "tensor(0.4948, grad_fn=<MseLossBackward>)\n"
          ],
          "name": "stdout"
        }
      ]
    },
    {
      "cell_type": "markdown",
      "metadata": {
        "id": "CIKBM1a2lhJR"
      },
      "source": [
        "이제 `.grad_fn` 속성을 사용하여 `loss` 를 역방향에서 따라가다보면, 이러한 모습의 연산 그래프를 볼 수 있습니다:\r\n",
        "\r\n",
        "```\r\n",
        "input -> conv2d -> relu -> maxpool2d -> conv2d -> relu -> maxpool2d\r\n",
        "      -> view -> linear -> relu -> linear -> relu -> linear\r\n",
        "      -> MSELoss\r\n",
        "      -> loss\r\n",
        "```"
      ]
    },
    {
      "cell_type": "markdown",
      "metadata": {
        "id": "mieKpHlblll0"
      },
      "source": [
        "따라서 `loss.backward()` 를 실행할 때, 전체 그래프는 손실(loss)에 대하여 미분되며, 그래프 내의 `requires_grad=True` 인 모든 Tensor는 변화도(gradient)가 누적된 `.grad` Tensor를 갖게 됩니다.\r\n",
        "\r\n",
        "설명을 위해, 역전파의 몇 단계를 따라가보겠습니다:"
      ]
    },
    {
      "cell_type": "code",
      "metadata": {
        "colab": {
          "base_uri": "https://localhost:8080/"
        },
        "id": "y-Grsgn8lBI9",
        "outputId": "a3d78fd0-e403-4191-a7d6-e19fff4996f1"
      },
      "source": [
        "print(loss.grad_fn)  # MSELoss\r\n",
        "print(loss.grad_fn.next_functions[0][0])  # Linear\r\n",
        "print(loss.grad_fn.next_functions[0][0].next_functions[0][0])  # ReLU"
      ],
      "execution_count": 6,
      "outputs": [
        {
          "output_type": "stream",
          "text": [
            "<MseLossBackward object at 0x7f242c344210>\n",
            "<AddmmBackward object at 0x7f242c344210>\n",
            "<AccumulateGrad object at 0x7f242c340790>\n"
          ],
          "name": "stdout"
        }
      ]
    },
    {
      "cell_type": "markdown",
      "metadata": {
        "id": "5rN1t1OAlymr"
      },
      "source": [
        "## 역전파(Backprop)\r\n",
        "오차(error)를 역전파하기 위해서는 `loss.backward()` 만 해주면 됩니다. 기존 변화도를 없애는 작업이 필요한데, 그렇지 않으면 변화도가 기존의 것에 누적되기 때문입니다.\r\n",
        "\r\n",
        "이제 `loss.backward()` 를 호출하여 역전파 전과 후에 conv1의 bias gradient를 살펴보겠습니다."
      ]
    },
    {
      "cell_type": "code",
      "metadata": {
        "colab": {
          "base_uri": "https://localhost:8080/"
        },
        "id": "LfL6lQOslwBE",
        "outputId": "5c574458-ada7-4512-9c0b-fb1996f335d8"
      },
      "source": [
        "net.zero_grad()     # 모든 매개변수의 변화도 버퍼를 0으로 만듦\r\n",
        "\r\n",
        "print('conv1.bias.grad before backward')\r\n",
        "print(net.conv1.bias.grad)\r\n",
        "\r\n",
        "loss.backward()\r\n",
        "\r\n",
        "print('conv1.bias.grad after backward')\r\n",
        "print(net.conv1.bias.grad)"
      ],
      "execution_count": 7,
      "outputs": [
        {
          "output_type": "stream",
          "text": [
            "conv1.bias.grad before backward\n",
            "tensor([0., 0., 0., 0., 0., 0.])\n",
            "conv1.bias.grad after backward\n",
            "tensor([ 0.0006,  0.0133,  0.0136,  0.0032, -0.0037,  0.0097])\n"
          ],
          "name": "stdout"
        }
      ]
    },
    {
      "cell_type": "markdown",
      "metadata": {
        "id": "HgMeAuhcl37P"
      },
      "source": [
        "지금까지 손실 함수를 어떻게 사용하는지를 살펴봤습니다.\r\n",
        "\r\n",
        "### 더 읽어보기:\r\n",
        "\r\n",
        "신경망 패키지(nn package)에는 심층 신경망(deep neural network)을 구성하는 다양한 모듈과 손실 함수가 포함되어 있습니다. 전체 목록은 [이 문서](https://pytorch.org/docs/stable/nn.html) 에 있습니다.\r\n",
        "\r\n",
        "### 이제 더 살펴볼 내용은 다음과 같습니다:\r\n",
        "\r\n",
        "- 신경망의 가중치를 갱신하는 것"
      ]
    },
    {
      "cell_type": "markdown",
      "metadata": {
        "id": "ukD4m5YjmJkc"
      },
      "source": [
        "## 가중치 갱신\r\n",
        "\r\n",
        "실제로 많이 사용되는 가장 단순한 갱신 규칙은 확률적 경사하강법(SGD; Stochastic Gradient Descent)입니다:\r\n",
        "\r\n",
        "`새로운 가중치(weight) = 가중치(weight) - 학습률(learning rate) * 변화도(gradient)`\r\n",
        "\r\n",
        "간단한 Python 코드로 이를 구현해볼 수 있습니다:"
      ]
    },
    {
      "cell_type": "code",
      "metadata": {
        "id": "7n9ZOq0kl2kM"
      },
      "source": [
        "learning_rate = 0.01\r\n",
        "for f in net.parameters():\r\n",
        "    f.data.sub_(f.grad.data * learning_rate)"
      ],
      "execution_count": 8,
      "outputs": []
    },
    {
      "cell_type": "markdown",
      "metadata": {
        "id": "RhKjRfX9mPoD"
      },
      "source": [
        "신경망을 구성할 때 SGD, Nesterov-SGD, Adam, RMSProp 등과 같은 다양한 갱신 규칙을 사용하고 싶을 수 있습니다. 이를 위해서 `torch.optim` 라는 작은 패키지에 이러한 방법들을 모두 구현해두었습니다. 사용법은 매우 간단합니다:"
      ]
    },
    {
      "cell_type": "code",
      "metadata": {
        "id": "sgR0Tk8SmOsB"
      },
      "source": [
        "import torch.optim as optim\r\n",
        "\r\n",
        "# Optimizer를 생성합니다.\r\n",
        "optimizer = optim.SGD(net.parameters(), lr=0.01)\r\n",
        "\r\n",
        "# 학습 과정(training loop)에서는 다음과 같습니다:\r\n",
        "optimizer.zero_grad()   # 변화도 버퍼를 0으로\r\n",
        "output = net(input)\r\n",
        "loss = criterion(output, target)\r\n",
        "loss.backward()\r\n",
        "optimizer.step()    # 업데이트 진행"
      ],
      "execution_count": 9,
      "outputs": []
    },
    {
      "cell_type": "markdown",
      "metadata": {
        "id": "tnngta_RmUIq"
      },
      "source": [
        "### NOTE\r\n",
        "\r\n",
        "`optimizer.zero_grad()` 를 사용하여 수동으로 변화도 버퍼를 0으로 설정하는 것에 유의하세요. 이는 [역전파(Backprop)](https://tutorials.pytorch.kr/beginner/blitz/neural_networks_tutorial.html#backprop) 섹션에서 설명한 것처럼 변화도가 누적되기 때문입니다."
      ]
    }
  ]
}