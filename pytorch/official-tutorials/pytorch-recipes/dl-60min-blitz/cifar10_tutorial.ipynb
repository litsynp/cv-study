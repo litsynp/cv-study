{
  "nbformat": 4,
  "nbformat_minor": 0,
  "metadata": {
    "colab": {
      "name": "pytorch-test.ipynb",
      "provenance": []
    },
    "kernelspec": {
      "name": "python3",
      "display_name": "Python 3"
    },
    "accelerator": "GPU"
  },
  "cells": [
    {
      "cell_type": "markdown",
      "metadata": {
        "id": "LqR_LfbaED9Z"
      },
      "source": [
        "# 분류기(CLASSIFIER) 학습하기\r\n",
        "\r\n",
        "지금까지 어떻게 신경망을 정의하고, 손실을 계산하며 또 가중치를 갱신하는지에 대해서 배웠습니다.\r\n",
        "\r\n",
        "이제 아마도 이런 생각을 하고 계실텐데요,"
      ]
    },
    {
      "cell_type": "markdown",
      "metadata": {
        "id": "_Glz1e-9EHAE"
      },
      "source": [
        "## 데이터는 어떻게 하나요?\r\n",
        "\r\n",
        "일반적으로 이미지나 텍스트, 오디오나 비디오 데이터를 다룰 때는 표준 Python 패키지를 이용하여 NumPy 배열로 불러오면 됩니다. 그 후 그 배열을 `torch.*Tensor` 로 변환합니다.\r\n",
        "\r\n",
        "- 이미지는 Pillow나 OpenCV 같은 패키지가 유용합니다.\r\n",
        "\r\n",
        "- 오디오를 처리할 때는 SciPy와 LibROSA가 유용하고요.\r\n",
        "\r\n",
        "- 텍스트의 경우에는 그냥 Python이나 Cython을 사용해도 되고, NLTK나 SpaCy도 유용합니다.\r\n",
        "\r\n",
        "특별히 영상 분야를 위한 `torchvision` 이라는 패키지가 만들어져 있는데, 여기에는 Imagenet이나 CIFAR10, MNIST 등과 같이 일반적으로 사용하는 데이터셋을 위한 데이터 로더(data loader), 즉 `torchvision.datasets` 과 이미지용 데이터 변환기 (data transformer), 즉 `torch.utils.data.DataLoader` 가 포함되어 있습니다.\r\n",
        "\r\n",
        "이러한 기능은 엄청나게 편리하며, 매번 유사한 코드(boilerplate code)를 반복해서 작성하는 것을 피할 수 있습니다.\r\n",
        "\r\n",
        "이 튜토리얼에서는 CIFAR10 데이터셋을 사용합니다. 여기에는 다음과 같은 분류들이 있습니다: ‘비행기(airplane)’, ‘자동차(automobile)’, ‘새(bird)’, ‘고양이(cat)’, ‘사슴(deer)’, ‘개(dog)’, ‘개구리(frog)’, ‘말(horse)’, ‘배(ship)’, ‘트럭(truck)’. 그리고 CIFAR10에 포함된 이미지의 크기는 3x32x32로, 이는 32x32 픽셀 크기의 이미지가 3개 채널(channel)의 색상로 이뤄져 있다는 것을 뜻합니다.\r\n",
        "\r\n",
        "![cifar10](https://tutorials.pytorch.kr/_images/cifar10.png)"
      ]
    },
    {
      "cell_type": "markdown",
      "metadata": {
        "id": "SJHbm8riEZN8"
      },
      "source": [
        "## 이미지 분류기 학습하기\r\n",
        "\r\n",
        "다음과 같은 단계로 진행해보겠습니다:\r\n",
        "\r\n",
        "1. `torchvision` 을 사용하여 CIFAR10의 학습용 / 시험용 데이터셋을 불러오고, 정규화(nomarlizing)합니다.\r\n",
        "\r\n",
        "2. 합성곱 신경망(Convolution Neural Network)을 정의합니다.\r\n",
        "\r\n",
        "3. 손실 함수를 정의합니다.\r\n",
        "\r\n",
        "4. 학습용 데이터를 사용하여 신경망을 학습합니다.\r\n",
        "\r\n",
        "5. 시험용 데이터를 사용하여 신경망을 검사합니다."
      ]
    },
    {
      "cell_type": "markdown",
      "metadata": {
        "id": "O00kI_67E2GS"
      },
      "source": [
        "### 1. CIFAR10를 불러오고 정규화하기\r\n",
        "\r\n",
        "`torchvision` 을 사용하여 매우 쉽게 CIFAR10을 불러올 수 있습니다."
      ]
    },
    {
      "cell_type": "code",
      "metadata": {
        "id": "e_LxuzWSEGW6"
      },
      "source": [
        "import torch\r\n",
        "import torchvision\r\n",
        "import torchvision.transforms as transforms"
      ],
      "execution_count": 1,
      "outputs": []
    },
    {
      "cell_type": "markdown",
      "metadata": {
        "id": "kl1mlO8DE635"
      },
      "source": [
        "torchvision 데이터셋의 출력(output)은 [0, 1] 범위를 갖는 PILImage 이미지입니다. 이를 [-1, 1]의 범위로 정규화된 Tensor로 변환합니다."
      ]
    },
    {
      "cell_type": "markdown",
      "metadata": {
        "id": "zbtuF21yFRrr"
      },
      "source": [
        "#### NOTE\r\n",
        "\r\n",
        "만약 Windows 환경에서 BrokenPipeError가 발생한다면, torch.utils.data.DataLoader()의 num_worker를 0으로 설정해보세요."
      ]
    },
    {
      "cell_type": "code",
      "metadata": {
        "colab": {
          "base_uri": "https://localhost:8080/"
        },
        "id": "vnhVOIBmFVHN",
        "outputId": "f7219c46-0196-45c1-cd7d-be313d807ccd"
      },
      "source": [
        "transform = transforms.Compose(\r\n",
        "    [transforms.ToTensor(),\r\n",
        "     transforms.Normalize((0.5, 0.5, 0.5), (0.5, 0.5, 0.5))])\r\n",
        "\r\n",
        "trainset = torchvision.datasets.CIFAR10(root='./data', train=True,\r\n",
        "                                        download=True, transform=transform)\r\n",
        "trainloader = torch.utils.data.DataLoader(trainset, batch_size=4,\r\n",
        "                                          shuffle=True, num_workers=2)\r\n",
        "\r\n",
        "testset = torchvision.datasets.CIFAR10(root='./data', train=False,\r\n",
        "                                       download=True, transform=transform)\r\n",
        "testloader = torch.utils.data.DataLoader(testset, batch_size=4,\r\n",
        "                                         shuffle=False, num_workers=2)\r\n",
        "\r\n",
        "classes = ('plane', 'car', 'bird', 'cat',\r\n",
        "           'deer', 'dog', 'frog', 'horse', 'ship', 'truck')"
      ],
      "execution_count": 2,
      "outputs": [
        {
          "output_type": "stream",
          "text": [
            "Files already downloaded and verified\n",
            "Files already downloaded and verified\n"
          ],
          "name": "stdout"
        }
      ]
    },
    {
      "cell_type": "markdown",
      "metadata": {
        "id": "EhrKBOgaFpSS"
      },
      "source": [
        "재미삼아 학습용 이미지 몇 개를 보겠습니다."
      ]
    },
    {
      "cell_type": "code",
      "metadata": {
        "colab": {
          "base_uri": "https://localhost:8080/",
          "height": 155
        },
        "id": "YcTFRzpbFrGp",
        "outputId": "1988f53a-5854-4104-9421-23be0ad53097"
      },
      "source": [
        "import matplotlib.pyplot as plt\r\n",
        "import numpy as np\r\n",
        "\r\n",
        "# 이미지를 보여주기 위한 함수\r\n",
        "\r\n",
        "def imshow(img):\r\n",
        "    img = img / 2 + 0.5     # unnormalize\r\n",
        "    npimg = img.numpy()\r\n",
        "    plt.imshow(np.transpose(npimg, (1, 2, 0)))\r\n",
        "    plt.show()\r\n",
        "\r\n",
        "\r\n",
        "# 학습용 이미지를 무작위로 가져오기\r\n",
        "dataiter = iter(trainloader)\r\n",
        "images, labels = dataiter.next()\r\n",
        "\r\n",
        "# 이미지 보여주기\r\n",
        "imshow(torchvision.utils.make_grid(images))\r\n",
        "# 정답(label) 출력\r\n",
        "print(' '.join('%5s' % classes[labels[j]] for j in range(4)))"
      ],
      "execution_count": 3,
      "outputs": [
        {
          "output_type": "display_data",
          "data": {
            "image/png": "[encoded data removed]",
            "text/plain": [
              "<Figure size 432x288 with 1 Axes>"
            ]
          },
          "metadata": {
            "tags": [],
            "needs_background": "light"
          }
        },
        {
          "output_type": "stream",
          "text": [
            "plane  frog   car   cat\n"
          ],
          "name": "stdout"
        }
      ]
    },
    {
      "cell_type": "markdown",
      "metadata": {
        "id": "7uKm_rLEF6lj"
      },
      "source": [
        "### 2. 합성곱 신경망(Convolution Neural Network) 정의하기\r\n",
        "\r\n",
        "이전의 신경망 섹션에서 신경망을 복사한 후, (기존에 1채널 이미지만 처리하도록 정의된 것을) 3채널 이미지를 처리할 수 있도록 수정합니다."
      ]
    },
    {
      "cell_type": "code",
      "metadata": {
        "id": "Clo7Yf_XF41o"
      },
      "source": [
        "import torch.nn as nn\r\n",
        "import torch.nn.functional as F\r\n",
        "\r\n",
        "\r\n",
        "class Net(nn.Module):\r\n",
        "    def __init__(self):\r\n",
        "        super(Net, self).__init__()\r\n",
        "        self.conv1 = nn.Conv2d(3, 6, 5)  # 3 channels (R,G,B)\r\n",
        "        self.pool = nn.MaxPool2d(2, 2)\r\n",
        "        self.conv2 = nn.Conv2d(6, 16, 5)\r\n",
        "        self.fc1 = nn.Linear(16 * 5 * 5, 120)\r\n",
        "        self.fc2 = nn.Linear(120, 84)\r\n",
        "        self.fc3 = nn.Linear(84, 10)\r\n",
        "\r\n",
        "    def forward(self, x):\r\n",
        "        x = self.pool(F.relu(self.conv1(x)))\r\n",
        "        x = self.pool(F.relu(self.conv2(x)))\r\n",
        "        x = x.view(-1, 16 * 5 * 5)\r\n",
        "        x = F.relu(self.fc1(x))\r\n",
        "        x = F.relu(self.fc2(x))\r\n",
        "        x = self.fc3(x)\r\n",
        "        return x\r\n",
        "\r\n",
        "\r\n",
        "net = Net()"
      ],
      "execution_count": 4,
      "outputs": []
    },
    {
      "cell_type": "markdown",
      "metadata": {
        "id": "OTU2ntU-GAK6"
      },
      "source": [
        "### 3. 손실 함수와 Optimizer 정의하기\r\n",
        "\r\n",
        "교차 엔트로피 손실(Cross-Entropy loss)과 모멘텀(momentum) 값을 갖는 SGD를 사용합니다."
      ]
    },
    {
      "cell_type": "code",
      "metadata": {
        "id": "VUvWISKtF-ye"
      },
      "source": [
        "import torch.optim as optim\r\n",
        "\r\n",
        "criterion = nn.CrossEntropyLoss()\r\n",
        "optimizer = optim.SGD(net.parameters(), lr=0.001, momentum=0.9)"
      ],
      "execution_count": 5,
      "outputs": []
    },
    {
      "cell_type": "markdown",
      "metadata": {
        "id": "dugL3TarGrdY"
      },
      "source": [
        "### 4. 신경망 학습하기\r\n",
        "\r\n",
        "이제 재미있는 부분이 시작됩니다. 단순히 데이터를 반복해서 신경망에 입력으로 제공하고, 최적화(Optimize)만 하면 됩니다."
      ]
    },
    {
      "cell_type": "code",
      "metadata": {
        "colab": {
          "base_uri": "https://localhost:8080/"
        },
        "id": "pV9gzzs3GBhs",
        "outputId": "8b1c4e22-8c5b-4e07-bd0f-e7adcf07e65e"
      },
      "source": [
        "for epoch in range(2):   # 데이터셋을 수차례 반복합니다.\r\n",
        "\r\n",
        "    running_loss = 0.0\r\n",
        "    for i, data in enumerate(trainloader, 0):\r\n",
        "        # [inputs, labels]의 목록인 data로부터 입력을 받은 후;\r\n",
        "        inputs, labels = data\r\n",
        "\r\n",
        "        # 변화도(Gradient) 매개변수를 0으로 만들고\r\n",
        "        optimizer.zero_grad()\r\n",
        "\r\n",
        "        # 순전파 + 역전파 + 최적화를 한 후\r\n",
        "        outputs = net(inputs)\r\n",
        "        loss = criterion(outputs, labels)\r\n",
        "        loss.backward()\r\n",
        "        optimizer.step()\r\n",
        "\r\n",
        "        # 통계를 출력합니다.\r\n",
        "        running_loss += loss.item()\r\n",
        "        if i % 2000 == 1999:    # print every 2000 mini-batches\r\n",
        "            print('[%d, %5d] loss: %.3f' %\r\n",
        "                  (epoch + 1, i + 1, running_loss / 2000))\r\n",
        "            running_loss = 0.0\r\n",
        "\r\n",
        "print('Finished Training')"
      ],
      "execution_count": 6,
      "outputs": [
        {
          "output_type": "stream",
          "text": [
            "[1,  2000] loss: 2.206\n",
            "[1,  4000] loss: 1.853\n",
            "[1,  6000] loss: 1.690\n",
            "[1,  8000] loss: 1.584\n",
            "[1, 10000] loss: 1.515\n",
            "[1, 12000] loss: 1.455\n",
            "[2,  2000] loss: 1.396\n",
            "[2,  4000] loss: 1.360\n",
            "[2,  6000] loss: 1.333\n",
            "[2,  8000] loss: 1.304\n",
            "[2, 10000] loss: 1.274\n",
            "[2, 12000] loss: 1.250\n",
            "Finished Training\n"
          ],
          "name": "stdout"
        }
      ]
    },
    {
      "cell_type": "markdown",
      "metadata": {
        "id": "U2mc0aU7G30k"
      },
      "source": [
        "학습한 모델을 저장해보겠습니다:"
      ]
    },
    {
      "cell_type": "code",
      "metadata": {
        "id": "nk4wpKK6G0CS"
      },
      "source": [
        "PATH = './cifar_net.pth'\r\n",
        "torch.save(net.state_dict(), PATH)"
      ],
      "execution_count": 7,
      "outputs": []
    },
    {
      "cell_type": "markdown",
      "metadata": {
        "id": "7hW5-8l-G8qj"
      },
      "source": [
        "PyTorch 모델을 저장하는 자세한 방법은 [여기](https://pytorch.org/docs/stable/notes/serialization.html) 를 참조해주세요."
      ]
    },
    {
      "cell_type": "markdown",
      "metadata": {
        "id": "yI7k1W6OHBB-"
      },
      "source": [
        "### 5. 시험용 데이터로 신경망 검사하기\r\n",
        "\r\n",
        "지금까지 학습용 데이터셋을 2회 반복하며 신경망을 학습시켰습니다. 신경망이 전혀 배운게 없을지도 모르니 확인해봅니다.\r\n",
        "\r\n",
        "신경망이 예측한 출력과 진짜 정답(Ground-truth)을 비교하는 방식으로 확인합니다. 만약 예측이 맞다면 샘플을 ‘맞은 예측값(correct predictions)’ 목록에 넣겠습니다.\r\n",
        "\r\n",
        "첫번째로 시험용 데이터를 좀 보겠습니다."
      ]
    },
    {
      "cell_type": "code",
      "metadata": {
        "colab": {
          "base_uri": "https://localhost:8080/",
          "height": 155
        },
        "id": "73kzVWLGG6eW",
        "outputId": "02f96f83-1d33-4f2a-d2be-850b80463689"
      },
      "source": [
        "dataiter = iter(testloader)\r\n",
        "images, labels = dataiter.next()\r\n",
        "\r\n",
        "# 이미지를 출력합니다.\r\n",
        "imshow(torchvision.utils.make_grid(images))\r\n",
        "print('GroundTruth: ', ' '.join('%5s' % classes[labels[j]] for j in range(4)))"
      ],
      "execution_count": 8,
      "outputs": [
        {
          "output_type": "display_data",
          "data": {
            "image/png": "[encoded data removed]",
            "text/plain": [
              "<Figure size 432x288 with 1 Axes>"
            ]
          },
          "metadata": {
            "tags": [],
            "needs_background": "light"
          }
        },
        {
          "output_type": "stream",
          "text": [
            "GroundTruth:    cat  ship  ship plane\n"
          ],
          "name": "stdout"
        }
      ]
    },
    {
      "cell_type": "markdown",
      "metadata": {
        "id": "Ri-xrg90Hvgj"
      },
      "source": [
        "이제, 저장했던 모델을 불러오도록 하겠습니다 (주: 모델을 저장하고 다시 불러오는 작업은 여기에서는 불필요하지만, 어떻게 하는지 설명을 위해 해보겠습니다):"
      ]
    },
    {
      "cell_type": "code",
      "metadata": {
        "colab": {
          "base_uri": "https://localhost:8080/"
        },
        "id": "zvicYKroHowi",
        "outputId": "b86c2130-6919-4c7d-d919-3cb5222aa1a3"
      },
      "source": [
        "net = Net()\r\n",
        "net.load_state_dict(torch.load(PATH))"
      ],
      "execution_count": 9,
      "outputs": [
        {
          "output_type": "execute_result",
          "data": {
            "text/plain": [
              "<All keys matched successfully>"
            ]
          },
          "metadata": {
            "tags": []
          },
          "execution_count": 9
        }
      ]
    },
    {
      "cell_type": "markdown",
      "metadata": {
        "id": "tqIkXmupHy4Q"
      },
      "source": [
        "좋습니다, 이제 이 예제들을 신경망이 어떻게 예측했는지를 보겠습니다:"
      ]
    },
    {
      "cell_type": "code",
      "metadata": {
        "id": "0wiMbLQaHxjP"
      },
      "source": [
        "outputs = net(images)"
      ],
      "execution_count": 10,
      "outputs": []
    },
    {
      "cell_type": "markdown",
      "metadata": {
        "id": "jaZuMeIiH1qh"
      },
      "source": [
        "출력은 10개 분류 각각에 대한 값으로 나타납니다. 어떤 분류에 대해서 더 높은 값이 나타난다는 것은, 신경망이 그 이미지가 해당 분류에 더 가깝다고 생각한다는 것입니다. 따라서, 가장 높은 값을 갖는 인덱스(index)를 뽑아보겠습니다:"
      ]
    },
    {
      "cell_type": "code",
      "metadata": {
        "colab": {
          "base_uri": "https://localhost:8080/"
        },
        "id": "_rySRbA5H0jc",
        "outputId": "f56dd751-9fb1-40b7-c5d6-276e4497c0c8"
      },
      "source": [
        "_, predicted = torch.max(outputs, 1)\r\n",
        "\r\n",
        "print('Predicted: ', ' '.join('%5s' % classes[predicted[j]]\r\n",
        "                              for j in range(4)))"
      ],
      "execution_count": 11,
      "outputs": [
        {
          "output_type": "stream",
          "text": [
            "Predicted:    cat  ship  ship  ship\n"
          ],
          "name": "stdout"
        }
      ]
    },
    {
      "cell_type": "markdown",
      "metadata": {
        "id": "K8Cuxs31INs_"
      },
      "source": [
        "결과가 괜찮아보이네요.\r\n",
        "\r\n",
        "그럼 전체 데이터셋에 대해서는 어떻게 동작하는지 보겠습니다."
      ]
    },
    {
      "cell_type": "code",
      "metadata": {
        "colab": {
          "base_uri": "https://localhost:8080/"
        },
        "id": "NkLEPB8xH5jY",
        "outputId": "671c08c4-8c04-43a6-9116-019aeec4ca55"
      },
      "source": [
        "correct = 0\r\n",
        "total = 0\r\n",
        "with torch.no_grad():\r\n",
        "    for data in testloader:\r\n",
        "        images, labels = data\r\n",
        "        outputs = net(images)\r\n",
        "        _, predicted = torch.max(outputs.data, 1)\r\n",
        "        total += labels.size(0)\r\n",
        "        correct += (predicted == labels).sum().item()\r\n",
        "\r\n",
        "print('Accuracy of the network on the 10000 test images: %d %%' % (\r\n",
        "    100 * correct / total))"
      ],
      "execution_count": 12,
      "outputs": [
        {
          "output_type": "stream",
          "text": [
            "Accuracy of the network on the 10000 test images: 55 %\n"
          ],
          "name": "stdout"
        }
      ]
    },
    {
      "cell_type": "markdown",
      "metadata": {
        "id": "KlIbkyEpIRSX"
      },
      "source": [
        "(10가지 분류 중에 하나를 무작위로) 찍었을 때의 정확도인 10% 보다는 나아보입니다. 신경망이 뭔가 배우긴 한 것 같네요.\r\n",
        "\r\n",
        "그럼 어떤 것들을 더 잘 분류하고, 어떤 것들을 더 못했는지 알아보겠습니다:"
      ]
    },
    {
      "cell_type": "code",
      "metadata": {
        "colab": {
          "base_uri": "https://localhost:8080/"
        },
        "id": "aw1NLXcwIQDF",
        "outputId": "6bdb35a9-40ab-4b6d-fa99-56b58ab66e5a"
      },
      "source": [
        "class_correct = list(0. for i in range(10))\r\n",
        "class_total = list(0. for i in range(10))\r\n",
        "with torch.no_grad():\r\n",
        "    for data in testloader:\r\n",
        "        images, labels = data\r\n",
        "        outputs = net(images)\r\n",
        "        _, predicted = torch.max(outputs, 1)\r\n",
        "        c = (predicted == labels).squeeze()\r\n",
        "        for i in range(4):\r\n",
        "            label = labels[i]\r\n",
        "            class_correct[label] += c[i].item()\r\n",
        "            class_total[label] += 1\r\n",
        "\r\n",
        "\r\n",
        "for i in range(10):\r\n",
        "    print('Accuracy of %5s : %2d %%' % (\r\n",
        "        classes[i], 100 * class_correct[i] / class_total[i]))"
      ],
      "execution_count": 13,
      "outputs": [
        {
          "output_type": "stream",
          "text": [
            "Accuracy of plane : 56 %\n",
            "Accuracy of   car : 75 %\n",
            "Accuracy of  bird : 35 %\n",
            "Accuracy of   cat : 44 %\n",
            "Accuracy of  deer : 48 %\n",
            "Accuracy of   dog : 43 %\n",
            "Accuracy of  frog : 44 %\n",
            "Accuracy of horse : 63 %\n",
            "Accuracy of  ship : 73 %\n",
            "Accuracy of truck : 70 %\n"
          ],
          "name": "stdout"
        }
      ]
    },
    {
      "cell_type": "markdown",
      "metadata": {
        "id": "pfvF0XN6IUWX"
      },
      "source": [
        "자, 이제 다음으로 무엇을 해볼까요?\r\n",
        "\r\n",
        "이러한 신경망들을 GPU에서 실행하려면 어떻게 해야 할까요?"
      ]
    },
    {
      "cell_type": "markdown",
      "metadata": {
        "id": "_QtAy-96IXxp"
      },
      "source": [
        "## GPU에서 학습하기\r\n",
        "\r\n",
        "Tensor를 GPU로 이동했던 것처럼, 신경망 또한 GPU로 옮길 수 있습니다.\r\n",
        "\r\n",
        "먼저 (CUDA를 사용할 수 있다면) 첫번째 CUDA 장치를 사용하도록 설정합니다:"
      ]
    },
    {
      "cell_type": "code",
      "metadata": {
        "colab": {
          "base_uri": "https://localhost:8080/"
        },
        "id": "yUjLuX05ITLQ",
        "outputId": "48d36f62-ab82-401a-e087-5feb17da7a8b"
      },
      "source": [
        "device = torch.device(\"cuda:0\" if torch.cuda.is_available() else \"cpu\")\r\n",
        "\r\n",
        "# CUDA 기기가 존재한다면, 아래 코드가 CUDA 장치를 출력합니다:\r\n",
        "\r\n",
        "print(device)"
      ],
      "execution_count": 14,
      "outputs": [
        {
          "output_type": "stream",
          "text": [
            "cuda:0\n"
          ],
          "name": "stdout"
        }
      ]
    },
    {
      "cell_type": "markdown",
      "metadata": {
        "id": "lAaawxNAIb49"
      },
      "source": [
        "이 섹션의 나머지 부분에서는 `device` 를 CUDA 장치라고 가정하겠습니다.\r\n",
        "\r\n",
        "그리고 이 메소드(Method)들은 재귀적으로 모든 모듈의 매개변수와 버퍼를 CUDA tensor로 변경합니다:"
      ]
    },
    {
      "cell_type": "code",
      "metadata": {
        "colab": {
          "base_uri": "https://localhost:8080/"
        },
        "id": "YFBiflg1IeC5",
        "outputId": "d3b86c4d-95bf-45b6-e273-b6f674a3ba15"
      },
      "source": [
        "net.to(device)"
      ],
      "execution_count": 15,
      "outputs": [
        {
          "output_type": "execute_result",
          "data": {
            "text/plain": [
              "Net(\n",
              "  (conv1): Conv2d(3, 6, kernel_size=(5, 5), stride=(1, 1))\n",
              "  (pool): MaxPool2d(kernel_size=2, stride=2, padding=0, dilation=1, ceil_mode=False)\n",
              "  (conv2): Conv2d(6, 16, kernel_size=(5, 5), stride=(1, 1))\n",
              "  (fc1): Linear(in_features=400, out_features=120, bias=True)\n",
              "  (fc2): Linear(in_features=120, out_features=84, bias=True)\n",
              "  (fc3): Linear(in_features=84, out_features=10, bias=True)\n",
              ")"
            ]
          },
          "metadata": {
            "tags": []
          },
          "execution_count": 15
        }
      ]
    },
    {
      "cell_type": "markdown",
      "metadata": {
        "id": "yIctka0cIezT"
      },
      "source": [
        "또한, 각 단계에서 입력(input)과 정답(target)도 GPU로 보내야 한다는 것도 기억해야 합니다:"
      ]
    },
    {
      "cell_type": "code",
      "metadata": {
        "id": "4vAdj3bRIgF4"
      },
      "source": [
        "inputs, labels = data[0].to(device), data[1].to(device)"
      ],
      "execution_count": 16,
      "outputs": []
    },
    {
      "cell_type": "markdown",
      "metadata": {
        "id": "fyVwbHx1IguX"
      },
      "source": [
        "CPU와 비교했을 때 어마어마한 속도 차이가 나지 않는 것은 왜 그럴까요? 그 이유는 바로 신경망이 너무 작기 때문입니다.\r\n",
        "\r\n",
        "연습: 신경망의 크기를 키워보고, 얼마나 빨라지는지 확인해보세요. (첫번째 `nn.Conv2d` 의 2번째 인자와 두번째 `nn.Conv2d` 의 1번째 인자는 같은 숫자여야 합니다.)"
      ]
    },
    {
      "cell_type": "markdown",
      "metadata": {
        "id": "iy4EXW2FIkQb"
      },
      "source": [
        "**다음 목표들을 달성했습니다:**\r\n",
        "\r\n",
        "높은 수준에서 PyTorch의 Tensor library와 신경망을 이해합니다.\r\n",
        "\r\n",
        "이미지를 분류하는 작은 신경망을 학습시킵니다."
      ]
    },
    {
      "cell_type": "markdown",
      "metadata": {
        "id": "gH2h_vPVInpq"
      },
      "source": [
        "## 여러개의 GPU에서 학습하기\r\n",
        "\r\n",
        "모든 GPU를 활용해서 더욱 더 속도를 올리고 싶다면, [선택 사항: 데이터 병렬 처리 (Data Parallelism)](https://tutorials.pytorch.kr/beginner/blitz/data_parallel_tutorial.html) 을 참고하세요."
      ]
    }
  ]
}