{
  "nbformat": 4,
  "nbformat_minor": 0,
  "metadata": {
    "colab": {
      "name": "pytorch-test.ipynb",
      "provenance": []
    },
    "kernelspec": {
      "name": "python3",
      "display_name": "Python 3"
    }
  },
  "cells": [
    {
      "cell_type": "markdown",
      "metadata": {
        "id": "hYuNob8NoMh_"
      },
      "source": [
        "# PYTORCH가 무엇인가요?\r\n",
        "출처: [PyTorch Tutorials - PYTORCH가 무엇인가요?](https://tutorials.pytorch.kr/beginner/blitz/tensor_tutorial.html#sphx-glr-beginner-blitz-tensor-tutorial-py)\r\n",
        "\r\n",
        "Python 기반의 과학 연산 패키지로 다음과 같은 두 집단을 대상으로 합니다:\r\n",
        "\r\n",
        "- NumPy를 대체하면서 GPU를 이용한 연산이 필요한 경우\r\n",
        "\r\n",
        "- 최대한의 유연성과 속도를 제공하는 딥러닝 연구 플랫폼이 필요한 경우"
      ]
    },
    {
      "cell_type": "markdown",
      "metadata": {
        "id": "bXUyOAJbogX7"
      },
      "source": [
        "## 시작하기"
      ]
    },
    {
      "cell_type": "markdown",
      "metadata": {
        "id": "dMHrKOzLoJIB"
      },
      "source": [
        "### Tensors\r\n",
        "Tensor는 NumPy의 ndarray와 유사하며, GPU를 사용한 연산 가속도 가능합니다."
      ]
    },
    {
      "cell_type": "code",
      "metadata": {
        "id": "3GIyq2eqnyCH"
      },
      "source": [
        "from __future__ import print_function\r\n",
        "import torch"
      ],
      "execution_count": 1,
      "outputs": []
    },
    {
      "cell_type": "code",
      "metadata": {
        "colab": {
          "base_uri": "https://localhost:8080/"
        },
        "id": "ukDZDMpNn2rb",
        "outputId": "888e3469-d043-45d2-dd5f-3266ff56b54a"
      },
      "source": [
        "# 초기화되지 않은 5x3 행렬을 생성합니다\r\n",
        "x = torch.empty(5, 3)\r\n",
        "print(x)"
      ],
      "execution_count": 2,
      "outputs": [
        {
          "output_type": "stream",
          "text": [
            "tensor([[-4.6215e+01,  3.0935e-41,  3.3631e-44],\n",
            "        [ 0.0000e+00,         nan,  3.0935e-41],\n",
            "        [ 1.1578e+27,  1.1362e+30,  7.1547e+22],\n",
            "        [ 4.5828e+30,  1.2121e+04,  7.1846e+22],\n",
            "        [ 9.2198e-39,  7.0374e+22, -1.3610e+01]])\n"
          ],
          "name": "stdout"
        }
      ]
    },
    {
      "cell_type": "code",
      "metadata": {
        "colab": {
          "base_uri": "https://localhost:8080/"
        },
        "id": "SXNC3ZrVn4iu",
        "outputId": "df0be9b7-c9e7-4861-b26b-395d8a62146f"
      },
      "source": [
        "# 무작위로 초기화된 행렬을 생성합니다\r\n",
        "x = torch.rand(5, 3)\r\n",
        "print(x)"
      ],
      "execution_count": 3,
      "outputs": [
        {
          "output_type": "stream",
          "text": [
            "tensor([[0.2977, 0.8490, 0.6999],\n",
            "        [0.7949, 0.2051, 0.8230],\n",
            "        [0.2503, 0.6897, 0.8825],\n",
            "        [0.0414, 0.4718, 0.2303],\n",
            "        [0.0597, 0.0394, 0.9942]])\n"
          ],
          "name": "stdout"
        }
      ]
    },
    {
      "cell_type": "code",
      "metadata": {
        "colab": {
          "base_uri": "https://localhost:8080/"
        },
        "id": "TFyDAIwOoBwn",
        "outputId": "aa0e4438-5b06-4583-dfff-b7ec1af27301"
      },
      "source": [
        "# dtype이 long이고 0으로 채워진 행렬을 생성합니다\r\n",
        "x = torch.zeros(5, 3, dtype=torch.long)\r\n",
        "print(x)"
      ],
      "execution_count": 4,
      "outputs": [
        {
          "output_type": "stream",
          "text": [
            "tensor([[0, 0, 0],\n",
            "        [0, 0, 0],\n",
            "        [0, 0, 0],\n",
            "        [0, 0, 0],\n",
            "        [0, 0, 0]])\n"
          ],
          "name": "stdout"
        }
      ]
    },
    {
      "cell_type": "code",
      "metadata": {
        "colab": {
          "base_uri": "https://localhost:8080/"
        },
        "id": "lhKOBjzhoEv0",
        "outputId": "408d5476-adf6-406e-b3df-d2450fce810b"
      },
      "source": [
        "# 데이터로부터 tensor를 직접 생성합니다\r\n",
        "x = torch.tensor([5.5, 3])\r\n",
        "print(x)"
      ],
      "execution_count": 5,
      "outputs": [
        {
          "output_type": "stream",
          "text": [
            "tensor([5.5000, 3.0000])\n"
          ],
          "name": "stdout"
        }
      ]
    },
    {
      "cell_type": "code",
      "metadata": {
        "colab": {
          "base_uri": "https://localhost:8080/"
        },
        "id": "5ibxRgyQoHSV",
        "outputId": "ede901a3-fe40-4d55-9acc-655e539b6ffd"
      },
      "source": [
        "# 또는 기존 tensor를 바탕으로 새로운 tensor를 만듭니다.\r\n",
        "# 이들 메소드(method)는 사용자로부터 새로운 값을 제공받지 않은 한, 입력 tensor의 속성들(예. dtype)을 재사용합니다.\r\n",
        "x = x.new_ones(5, 3, dtype=torch.double)      # new_* 메소드는 크기를 받습니다\r\n",
        "print(x)\r\n",
        "\r\n",
        "x = torch.randn_like(x, dtype=torch.float)    # dtype을 오버라이드(Override) 합니다!\r\n",
        "print(x)                                      # 결과는 동일한 크기를 갖습니다"
      ],
      "execution_count": 6,
      "outputs": [
        {
          "output_type": "stream",
          "text": [
            "tensor([[1., 1., 1.],\n",
            "        [1., 1., 1.],\n",
            "        [1., 1., 1.],\n",
            "        [1., 1., 1.],\n",
            "        [1., 1., 1.]], dtype=torch.float64)\n",
            "tensor([[-0.1202,  1.9721, -0.1347],\n",
            "        [-0.2297, -0.8435,  1.2156],\n",
            "        [ 0.7356, -0.2108,  0.3410],\n",
            "        [ 0.5929, -1.6890,  0.0248],\n",
            "        [ 0.4498,  0.5766,  1.7030]])\n"
          ],
          "name": "stdout"
        }
      ]
    },
    {
      "cell_type": "code",
      "metadata": {
        "colab": {
          "base_uri": "https://localhost:8080/"
        },
        "id": "gmWirIy_oX4j",
        "outputId": "b771427a-160d-4259-d85a-92379781e506"
      },
      "source": [
        "# 행렬의 크기를 구합니다\r\n",
        "print(x.size())"
      ],
      "execution_count": 7,
      "outputs": [
        {
          "output_type": "stream",
          "text": [
            "torch.Size([5, 3])\n"
          ],
          "name": "stdout"
        }
      ]
    },
    {
      "cell_type": "markdown",
      "metadata": {
        "id": "NSZg_YxnpDGA"
      },
      "source": [
        "## 연산(Operations)\r\n",
        "\r\n",
        "연산을 위한 여러가지 문법을 제공합니다. 다음 예제들을 통해 덧셈 연산을 살펴보겠습니다."
      ]
    },
    {
      "cell_type": "code",
      "metadata": {
        "colab": {
          "base_uri": "https://localhost:8080/"
        },
        "id": "etyODYafpGaj",
        "outputId": "3f0df1ea-80b1-45fd-952c-3466cdf8d9c5"
      },
      "source": [
        "# 덧셈: 문법1\r\n",
        "y = torch.rand(5, 3)\r\n",
        "print(x + y)"
      ],
      "execution_count": 8,
      "outputs": [
        {
          "output_type": "stream",
          "text": [
            "tensor([[ 0.4433,  2.9386,  0.1894],\n",
            "        [ 0.2282,  0.1282,  1.9606],\n",
            "        [ 1.5166,  0.1145,  0.4646],\n",
            "        [ 1.0172, -1.4269,  0.8567],\n",
            "        [ 1.0319,  1.2885,  1.7608]])\n"
          ],
          "name": "stdout"
        }
      ]
    },
    {
      "cell_type": "code",
      "metadata": {
        "colab": {
          "base_uri": "https://localhost:8080/"
        },
        "id": "uQr1MhPGpHp0",
        "outputId": "6c9b68db-90a9-48ae-9070-7541b6d1ca64"
      },
      "source": [
        "# 덧셈: 문법2\r\n",
        "print(torch.add(x, y))"
      ],
      "execution_count": 9,
      "outputs": [
        {
          "output_type": "stream",
          "text": [
            "tensor([[ 0.4433,  2.9386,  0.1894],\n",
            "        [ 0.2282,  0.1282,  1.9606],\n",
            "        [ 1.5166,  0.1145,  0.4646],\n",
            "        [ 1.0172, -1.4269,  0.8567],\n",
            "        [ 1.0319,  1.2885,  1.7608]])\n"
          ],
          "name": "stdout"
        }
      ]
    },
    {
      "cell_type": "code",
      "metadata": {
        "colab": {
          "base_uri": "https://localhost:8080/"
        },
        "id": "1dLq0dYvpJda",
        "outputId": "9070b1f5-4f88-40e4-abfc-b36c2ee86678"
      },
      "source": [
        "# 덧셈: 결과 tensor를 인자로 제공\r\n",
        "result = torch.empty(5, 3)\r\n",
        "torch.add(x, y, out=result)\r\n",
        "print(result)"
      ],
      "execution_count": 10,
      "outputs": [
        {
          "output_type": "stream",
          "text": [
            "tensor([[ 0.4433,  2.9386,  0.1894],\n",
            "        [ 0.2282,  0.1282,  1.9606],\n",
            "        [ 1.5166,  0.1145,  0.4646],\n",
            "        [ 1.0172, -1.4269,  0.8567],\n",
            "        [ 1.0319,  1.2885,  1.7608]])\n"
          ],
          "name": "stdout"
        }
      ]
    },
    {
      "cell_type": "code",
      "metadata": {
        "colab": {
          "base_uri": "https://localhost:8080/"
        },
        "id": "CsD-mAbFpR53",
        "outputId": "016c36f6-1773-4859-96ff-aeffd7ce7f5f"
      },
      "source": [
        "# 덧셈: 바꿔치기(in-place) 방식\r\n",
        "\r\n",
        "# y에 x 더하기\r\n",
        "y.add_(x)\r\n",
        "print(y)"
      ],
      "execution_count": 11,
      "outputs": [
        {
          "output_type": "stream",
          "text": [
            "tensor([[ 0.4433,  2.9386,  0.1894],\n",
            "        [ 0.2282,  0.1282,  1.9606],\n",
            "        [ 1.5166,  0.1145,  0.4646],\n",
            "        [ 1.0172, -1.4269,  0.8567],\n",
            "        [ 1.0319,  1.2885,  1.7608]])\n"
          ],
          "name": "stdout"
        }
      ]
    },
    {
      "cell_type": "code",
      "metadata": {
        "colab": {
          "base_uri": "https://localhost:8080/"
        },
        "id": "KUFrjeQtpYhU",
        "outputId": "4e8824c1-f4cd-43ab-e1b7-3bff232b4907"
      },
      "source": [
        "# NumPy스러운 인덱싱 표기 방법을 사용하실 수도 있습니다!\r\n",
        "print(x[:, 1])"
      ],
      "execution_count": 12,
      "outputs": [
        {
          "output_type": "stream",
          "text": [
            "tensor([ 1.9721, -0.8435, -0.2108, -1.6890,  0.5766])\n"
          ],
          "name": "stdout"
        }
      ]
    },
    {
      "cell_type": "code",
      "metadata": {
        "colab": {
          "base_uri": "https://localhost:8080/"
        },
        "id": "sk6c38oepZpy",
        "outputId": "008d5be3-e556-46c6-b9b1-3f037a3907c4"
      },
      "source": [
        "# 크기 변경: tensor의 크기(size)나 모양(shape)을 변경하고 싶다면 torch.view 를 사용합니다\r\n",
        "x = torch.randn(4, 4)\r\n",
        "y = x.view(16)\r\n",
        "z = x.view(-1, 8)  # -1은 다른 차원에서 유추합니다.\r\n",
        "print(x.size(), y.size(), z.size())"
      ],
      "execution_count": 13,
      "outputs": [
        {
          "output_type": "stream",
          "text": [
            "torch.Size([4, 4]) torch.Size([16]) torch.Size([2, 8])\n"
          ],
          "name": "stdout"
        }
      ]
    },
    {
      "cell_type": "code",
      "metadata": {
        "colab": {
          "base_uri": "https://localhost:8080/"
        },
        "id": "QwDn2_HopdaN",
        "outputId": "7b29266c-d5a2-452c-dc72-265c2d875aff"
      },
      "source": [
        "# 만약 tensor에 하나의 값만 존재한다면, .item() 을 사용하면 숫자 값을 얻을 수 있습니다.\r\n",
        "x = torch.randn(1)\r\n",
        "print(x)\r\n",
        "print(x.item())"
      ],
      "execution_count": 14,
      "outputs": [
        {
          "output_type": "stream",
          "text": [
            "tensor([0.2254])\n",
            "0.2254418581724167\n"
          ],
          "name": "stdout"
        }
      ]
    },
    {
      "cell_type": "markdown",
      "metadata": {
        "id": "BtNBy4T_phKh"
      },
      "source": [
        "#### 더 읽을거리\r\n",
        "\r\n",
        "전치(transposing), 인덱싱(indexing), 슬라이싱(slicing), 수학 계산, 선형 대수, 난수(random number) 등, 100가지 이상의 Tensor 연산은 [여기](https://pytorch.org/docs/stable/torch.html) 에서 확인하실 수 있습니다."
      ]
    },
    {
      "cell_type": "markdown",
      "metadata": {
        "id": "87Sm4ffOpo4C"
      },
      "source": [
        "## NumPy 변환(Bridge)\r\n",
        "Torch Tensor를 NumPy 배열(array)로 변환하거나, 그 반대로 하는 것은 매우 쉽습니다.\r\n",
        "\r\n",
        "(Torch Tensor가 CPU 상에 있다면) Torch Tensor와 NumPy 배열은 메모리 공간을 공유하기 때문에, 하나를 변경하면 다른 하나도 변경됩니다."
      ]
    },
    {
      "cell_type": "markdown",
      "metadata": {
        "id": "e8P5P6Okps3w"
      },
      "source": [
        "### Torch Tensor를 NumPy 배열로 변환하기"
      ]
    },
    {
      "cell_type": "code",
      "metadata": {
        "colab": {
          "base_uri": "https://localhost:8080/"
        },
        "id": "gNjncFlDpfK6",
        "outputId": "1c5bbe44-fb9b-46ea-9df2-f1f9eb0694fb"
      },
      "source": [
        "a = torch.ones(5)\r\n",
        "print(a)"
      ],
      "execution_count": 15,
      "outputs": [
        {
          "output_type": "stream",
          "text": [
            "tensor([1., 1., 1., 1., 1.])\n"
          ],
          "name": "stdout"
        }
      ]
    },
    {
      "cell_type": "code",
      "metadata": {
        "colab": {
          "base_uri": "https://localhost:8080/"
        },
        "id": "hOVC5rfgpw-o",
        "outputId": "bf1686ae-fcab-4b36-899f-42175a4c5479"
      },
      "source": [
        "b = a.numpy()\r\n",
        "print(b)"
      ],
      "execution_count": 16,
      "outputs": [
        {
          "output_type": "stream",
          "text": [
            "[1. 1. 1. 1. 1.]\n"
          ],
          "name": "stdout"
        }
      ]
    },
    {
      "cell_type": "code",
      "metadata": {
        "colab": {
          "base_uri": "https://localhost:8080/"
        },
        "id": "UQoqrfMEpxKV",
        "outputId": "354f2b79-be3f-45df-f14e-3dfe1763b672"
      },
      "source": [
        "# NumPy 배열의 값이 어떻게 변하는지 확인해보세요.\r\n",
        "a.add_(1)\r\n",
        "print(a)\r\n",
        "print(b)"
      ],
      "execution_count": 17,
      "outputs": [
        {
          "output_type": "stream",
          "text": [
            "tensor([2., 2., 2., 2., 2.])\n",
            "[2. 2. 2. 2. 2.]\n"
          ],
          "name": "stdout"
        }
      ]
    },
    {
      "cell_type": "markdown",
      "metadata": {
        "id": "ubzZEX0FpzvY"
      },
      "source": [
        "## NumPy 배열을 Torch Tensor로 변환하기\r\n",
        "np (NumPy) 배열을 변경하면 Torch Tensor의 값도 자동 변경되는 것을 확인해보세요."
      ]
    },
    {
      "cell_type": "code",
      "metadata": {
        "colab": {
          "base_uri": "https://localhost:8080/"
        },
        "id": "Eyh52mKCpyVJ",
        "outputId": "bad0a537-972f-4d1d-9cf1-205be6975fb1"
      },
      "source": [
        "import numpy as np\r\n",
        "a = np.ones(5)\r\n",
        "b = torch.from_numpy(a)\r\n",
        "np.add(a, 1, out=a)\r\n",
        "print(a)\r\n",
        "print(b)"
      ],
      "execution_count": 18,
      "outputs": [
        {
          "output_type": "stream",
          "text": [
            "[2. 2. 2. 2. 2.]\n",
            "tensor([2., 2., 2., 2., 2.], dtype=torch.float64)\n"
          ],
          "name": "stdout"
        }
      ]
    },
    {
      "cell_type": "markdown",
      "metadata": {
        "id": "elbK255Hp5FC"
      },
      "source": [
        "CharTensor를 제외한 CPU 상의 모든 Tensor는 NumPy로 변환할 수 있고, (NumPy에서 Tensor로의) 반대 변환도 가능합니다."
      ]
    },
    {
      "cell_type": "markdown",
      "metadata": {
        "id": "R16HMvYbp6rJ"
      },
      "source": [
        "## CUDA Tensors\r\n",
        ".to 메소드를 사용하여 Tensor를 어떠한 장치로도 옮길 수 있습니다."
      ]
    },
    {
      "cell_type": "code",
      "metadata": {
        "id": "rBO2APWXp2rq"
      },
      "source": [
        "# 이 코드는 CUDA가 사용 가능한 환경에서만 실행합니다.\r\n",
        "# ``torch.device`` 를 사용하여 tensor를 GPU 안팎으로 이동해보겠습니다.\r\n",
        "if torch.cuda.is_available():\r\n",
        "    device = torch.device(\"cuda\")          # CUDA 장치 객체(device object)로\r\n",
        "    y = torch.ones_like(x, device=device)  # GPU 상에 직접적으로 tensor를 생성하거나\r\n",
        "    x = x.to(device)                       # ``.to(\"cuda\")`` 를 사용하면 됩니다.\r\n",
        "    z = x + y\r\n",
        "    print(z)\r\n",
        "    print(z.to(\"cpu\", torch.double))       # ``.to`` 는 dtype도 함께 변경합니다!\r\n",
        "\r\n",
        "# Out:\r\n",
        "# tensor([1.8994], device='cuda:0')\r\n",
        "# tensor([1.8994], dtype=torch.float64)"
      ],
      "execution_count": 19,
      "outputs": []
    }
  ]
}