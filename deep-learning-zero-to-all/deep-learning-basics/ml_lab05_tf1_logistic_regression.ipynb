{
  "nbformat": 4,
  "nbformat_minor": 0,
  "metadata": {
    "colab": {
      "name": "ml-lab05-tf1-logistic-regression.ipynb",
      "provenance": []
    },
    "kernelspec": {
      "name": "python3",
      "display_name": "Python 3"
    }
  },
  "cells": [
    {
      "cell_type": "code",
      "metadata": {
        "colab": {
          "base_uri": "https://localhost:8080/"
        },
        "id": "pB-C0EmtD3dv",
        "outputId": "4f9fb587-6507-456f-be95-b41b2a15b67d"
      },
      "source": [
        "# Code written using TF1\r\n",
        "# REF: https://www.youtube.com/watch?v=2FeWGgnyLSw&feature=youtu.be\r\n",
        "# MATCH: https://github.com/hunkim/DeepLearningZeroToAll/blob/master/lab-05-1-logistic_regression.py\r\n",
        "!pip install tensorflow==1.12.0\r\n",
        "import tensorflow as tf\r\n",
        "print(tf.__version__)\r\n",
        "\r\n",
        "tf.set_random_seed(777)  # for reproducibility"
      ],
      "execution_count": 15,
      "outputs": [
        {
          "output_type": "stream",
          "text": [
            "Requirement already satisfied: tensorflow==1.12.0 in /usr/local/lib/python3.6/dist-packages (1.12.0)\n",
            "Requirement already satisfied: numpy>=1.13.3 in /usr/local/lib/python3.6/dist-packages (from tensorflow==1.12.0) (1.19.5)\n",
            "Requirement already satisfied: gast>=0.2.0 in /usr/local/lib/python3.6/dist-packages (from tensorflow==1.12.0) (0.3.3)\n",
            "Requirement already satisfied: grpcio>=1.8.6 in /usr/local/lib/python3.6/dist-packages (from tensorflow==1.12.0) (1.32.0)\n",
            "Requirement already satisfied: absl-py>=0.1.6 in /usr/local/lib/python3.6/dist-packages (from tensorflow==1.12.0) (0.10.0)\n",
            "Requirement already satisfied: six>=1.10.0 in /usr/local/lib/python3.6/dist-packages (from tensorflow==1.12.0) (1.15.0)\n",
            "Requirement already satisfied: protobuf>=3.6.1 in /usr/local/lib/python3.6/dist-packages (from tensorflow==1.12.0) (3.12.4)\n",
            "Requirement already satisfied: wheel>=0.26 in /usr/local/lib/python3.6/dist-packages (from tensorflow==1.12.0) (0.36.2)\n",
            "Requirement already satisfied: keras-preprocessing>=1.0.5 in /usr/local/lib/python3.6/dist-packages (from tensorflow==1.12.0) (1.1.2)\n",
            "Requirement already satisfied: tensorboard<1.13.0,>=1.12.0 in /usr/local/lib/python3.6/dist-packages (from tensorflow==1.12.0) (1.12.2)\n",
            "Requirement already satisfied: keras-applications>=1.0.6 in /usr/local/lib/python3.6/dist-packages (from tensorflow==1.12.0) (1.0.8)\n",
            "Requirement already satisfied: astor>=0.6.0 in /usr/local/lib/python3.6/dist-packages (from tensorflow==1.12.0) (0.8.1)\n",
            "Requirement already satisfied: termcolor>=1.1.0 in /usr/local/lib/python3.6/dist-packages (from tensorflow==1.12.0) (1.1.0)\n",
            "Requirement already satisfied: setuptools in /usr/local/lib/python3.6/dist-packages (from protobuf>=3.6.1->tensorflow==1.12.0) (53.0.0)\n",
            "Requirement already satisfied: markdown>=2.6.8 in /usr/local/lib/python3.6/dist-packages (from tensorboard<1.13.0,>=1.12.0->tensorflow==1.12.0) (3.3.3)\n",
            "Requirement already satisfied: werkzeug>=0.11.10 in /usr/local/lib/python3.6/dist-packages (from tensorboard<1.13.0,>=1.12.0->tensorflow==1.12.0) (1.0.1)\n",
            "Requirement already satisfied: h5py in /usr/local/lib/python3.6/dist-packages (from keras-applications>=1.0.6->tensorflow==1.12.0) (2.10.0)\n",
            "Requirement already satisfied: importlib-metadata; python_version < \"3.8\" in /usr/local/lib/python3.6/dist-packages (from markdown>=2.6.8->tensorboard<1.13.0,>=1.12.0->tensorflow==1.12.0) (3.4.0)\n",
            "Requirement already satisfied: typing-extensions>=3.6.4; python_version < \"3.8\" in /usr/local/lib/python3.6/dist-packages (from importlib-metadata; python_version < \"3.8\"->markdown>=2.6.8->tensorboard<1.13.0,>=1.12.0->tensorflow==1.12.0) (3.7.4.3)\n",
            "Requirement already satisfied: zipp>=0.5 in /usr/local/lib/python3.6/dist-packages (from importlib-metadata; python_version < \"3.8\"->markdown>=2.6.8->tensorboard<1.13.0,>=1.12.0->tensorflow==1.12.0) (3.4.0)\n",
            "1.12.0\n"
          ],
          "name": "stdout"
        }
      ]
    },
    {
      "cell_type": "markdown",
      "metadata": {
        "id": "P6ziTHDsIwPq"
      },
      "source": [
        "### Set up variables and placeholders"
      ]
    },
    {
      "cell_type": "code",
      "metadata": {
        "id": "b9spI5y1EPap"
      },
      "source": [
        "import numpy as np\r\n",
        "import matplotlib.pyplot as plt\r\n",
        "\r\n",
        "# 6 x 2\r\n",
        "x_data = [[1, 2],\r\n",
        "          [2, 3],\r\n",
        "          [3, 1],\r\n",
        "          [4, 3],\r\n",
        "          [5, 3],\r\n",
        "          [6, 2]]\r\n",
        "\r\n",
        "# 0 or 1 => 6 x 1\r\n",
        "y_data = [[0],\r\n",
        "          [0],\r\n",
        "          [0],\r\n",
        "          [1],\r\n",
        "          [1],\r\n",
        "          [1]]\r\n",
        "\r\n",
        "# placeholders for a tensor that will always be fed.\r\n",
        "X = tf.placeholder(tf.float32, shape=[None, 2])  # #instance=n, #data=2\r\n",
        "Y = tf.placeholder(tf.float32, shape=[None, 1])  # #instance=n, #data=1"
      ],
      "execution_count": 16,
      "outputs": []
    },
    {
      "cell_type": "markdown",
      "metadata": {
        "id": "1RVxtFNwI5nw"
      },
      "source": [
        "### Set up functions to train and measure accuracy"
      ]
    },
    {
      "cell_type": "code",
      "metadata": {
        "id": "XlsePVBKFKh_"
      },
      "source": [
        "W = tf.Variable(tf.random_normal([2, 1]), name='weight')  # 2 x 1 (Y = XW)\r\n",
        "b = tf.Variable(tf.random_normal([1]), name='bias') # bias 크기 == #Y_data\r\n",
        "\r\n",
        "# 식 설정 H(X)\r\n",
        "hypothesis = tf.sigmoid(tf.matmul(X, W) + b)\r\n",
        "\r\n",
        "# cost/loss function\r\n",
        "reduce_mean_func = Y * tf.log(hypothesis) + (1 - Y) * tf.log(1 - hypothesis)\r\n",
        "cost = -tf.reduce_mean(reduce_mean_func)\r\n",
        "\r\n",
        "# No need to do differentiation, TF does it for you -- Minimize the given \"cost\"!\r\n",
        "train = tf.train.GradientDescentOptimizer(learning_rate=0.01).minimize(cost)\r\n",
        "\r\n",
        "# Accuracy computation\r\n",
        "# True if hypothesis > 0.5 else False\r\n",
        "predicted = tf.cast(hypothesis > 0.5, dtype=tf.float32)  # Cast to float32\r\n",
        "accuracy = tf.reduce_mean(tf.cast(tf.equal(predicted, Y), dtype=tf.float32))"
      ],
      "execution_count": 17,
      "outputs": []
    },
    {
      "cell_type": "markdown",
      "metadata": {
        "id": "OC9_EXn7I-Ue"
      },
      "source": [
        "### Train the model"
      ]
    },
    {
      "cell_type": "code",
      "metadata": {
        "colab": {
          "base_uri": "https://localhost:8080/"
        },
        "id": "1NBchmWXIbBK",
        "outputId": "437dd721-3033-4817-dfec-6f77bc0766d7"
      },
      "source": [
        "STEPS = 10000\r\n",
        "\r\n",
        "# Launch graph\r\n",
        "with tf.Session() as sess:\r\n",
        "    # Initialize TF variables\r\n",
        "    sess.run(tf.global_variables_initializer())\r\n",
        "    \r\n",
        "    print('step, cost')\r\n",
        "    for step in range(STEPS + 1):\r\n",
        "        cost_val, _ = sess.run([cost, train], feed_dict={X: x_data, Y: y_data})\r\n",
        "\r\n",
        "        if step % 200 == 0:\r\n",
        "            print(step, cost_val)\r\n",
        "    \r\n",
        "    # Accuracy report\r\n",
        "    h, c, a = sess.run([hypothesis, predicted, accuracy],\r\n",
        "                       feed_dict={X: x_data, Y: y_data})\r\n",
        "    print('\\nHypothesis: \\n{}\\nCorrect (Y): \\n{}\\nAccuracy: {}'.format(h, c, a))\r\n"
      ],
      "execution_count": 18,
      "outputs": [
        {
          "output_type": "stream",
          "text": [
            "step, cost\n",
            "0 5.865818\n",
            "200 0.4276174\n",
            "400 0.3951479\n",
            "600 0.37427223\n",
            "800 0.35861972\n",
            "1000 0.34565148\n",
            "1200 0.3342456\n",
            "1400 0.32386294\n",
            "1600 0.31422558\n",
            "1800 0.30517933\n",
            "2000 0.29663232\n",
            "2200 0.2885253\n",
            "2400 0.28081664\n",
            "2600 0.27347466\n",
            "2800 0.26647356\n",
            "3000 0.25979128\n",
            "3200 0.25340828\n",
            "3400 0.24730699\n",
            "3600 0.241471\n",
            "3800 0.23588516\n",
            "4000 0.23053563\n",
            "4200 0.22540902\n",
            "4400 0.22049318\n",
            "4600 0.2157766\n",
            "4800 0.21124841\n",
            "5000 0.2068985\n",
            "5200 0.20271736\n",
            "5400 0.19869597\n",
            "5600 0.19482625\n",
            "5800 0.19110024\n",
            "6000 0.18751054\n",
            "6200 0.18405025\n",
            "6400 0.18071292\n",
            "6600 0.17749237\n",
            "6800 0.17438298\n",
            "7000 0.1713794\n",
            "7200 0.1684765\n",
            "7400 0.16566952\n",
            "7600 0.16295399\n",
            "7800 0.16032569\n",
            "8000 0.15778056\n",
            "8200 0.15531495\n",
            "8400 0.15292521\n",
            "8600 0.15060809\n",
            "8800 0.14836036\n",
            "9000 0.14617902\n",
            "9200 0.14406134\n",
            "9400 0.14200453\n",
            "9600 0.14000611\n",
            "9800 0.13806373\n",
            "10000 0.13617492\n",
            "\n",
            "Hypothesis: \n",
            "[[0.02534273]\n",
            " [0.15081699]\n",
            " [0.277892  ]\n",
            " [0.79399085]\n",
            " [0.94724154]\n",
            " [0.98277134]]\n",
            "Correct (Y): \n",
            "[[0.]\n",
            " [0.]\n",
            " [0.]\n",
            " [1.]\n",
            " [1.]\n",
            " [1.]]\n",
            "Accuracy: 1.0\n"
          ],
          "name": "stdout"
        }
      ]
    },
    {
      "cell_type": "code",
      "metadata": {
        "id": "y5epsoyePrd9"
      },
      "source": [
        ""
      ],
      "execution_count": 18,
      "outputs": []
    }
  ]
}